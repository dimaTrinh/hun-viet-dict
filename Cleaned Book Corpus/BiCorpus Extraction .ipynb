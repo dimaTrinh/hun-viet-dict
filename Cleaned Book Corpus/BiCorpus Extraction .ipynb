{
 "cells": [
  {
   "cell_type": "code",
   "execution_count": 1,
   "metadata": {},
   "outputs": [],
   "source": [
    "import glob"
   ]
  },
  {
   "cell_type": "code",
   "execution_count": 2,
   "metadata": {},
   "outputs": [],
   "source": [
    "inputPath = \"./hunalign-1.1/Align/*\"\n",
    "outputFolder = \"../Bicorpus/\""
   ]
  },
  {
   "cell_type": "code",
   "execution_count": 3,
   "metadata": {},
   "outputs": [],
   "source": [
    "inputFiles = glob.glob(inputPath)"
   ]
  },
  {
   "cell_type": "code",
   "execution_count": 4,
   "metadata": {},
   "outputs": [],
   "source": [
    "for file in inputFiles:\n",
    "    print(file.split(\"/\")[-1])\n",
    "    outputPath = outputFolder + file.split(\"/\")[-1]\n",
    "    with open(file, \"r\") as infile:\n",
    "        lines = infile.readlines()\n",
    "    outfile = open(outputPath, \"w\")\n",
    "    \n",
    "    for line in lines:\n",
    "        src, tgt, score = line.split(\"\\t\")\n",
    "        score = float(score)\n",
    "        if (score < 0): #negative score\n",
    "            continue #ignore this line\n",
    "        \n",
    "        #remove the lines seperator\n",
    "        src = src.replace(\"~~~ \", \"\")\n",
    "        tgt = tgt.replace(\"~~~ \", \"\")\n",
    "        outfile.write(src + \"\\t\" + tgt + \"\\n\")\n",
    "        \n",
    "    outfile.close()"
   ]
  }
 ],
 "metadata": {
  "kernelspec": {
   "display_name": "Python 3",
   "language": "python",
   "name": "python3"
  },
  "language_info": {
   "codemirror_mode": {
    "name": "ipython",
    "version": 3
   },
   "file_extension": ".py",
   "mimetype": "text/x-python",
   "name": "python",
   "nbconvert_exporter": "python",
   "pygments_lexer": "ipython3",
   "version": "3.7.7"
  }
 },
 "nbformat": 4,
 "nbformat_minor": 4
}
