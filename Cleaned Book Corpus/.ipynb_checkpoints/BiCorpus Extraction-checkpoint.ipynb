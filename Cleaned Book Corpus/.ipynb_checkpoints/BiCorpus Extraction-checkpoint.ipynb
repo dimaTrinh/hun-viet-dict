{
 "cells": [
  {
   "cell_type": "code",
   "execution_count": 1,
   "metadata": {},
   "outputs": [],
   "source": [
    "import glob"
   ]
  },
  {
   "cell_type": "code",
   "execution_count": 2,
   "metadata": {},
   "outputs": [],
   "source": [
    "inputPath = \"./hunalign-1.1/Align/*\"\n",
    "outputFolder = \"../Bicorpus/\""
   ]
  },
  {
   "cell_type": "code",
   "execution_count": 3,
   "metadata": {},
   "outputs": [],
   "source": [
    "inputFiles = glob.glob(inputPath)"
   ]
  },
  {
   "cell_type": "code",
   "execution_count": 4,
   "metadata": {},
   "outputs": [],
   "source": [
    "outfile2 =  open(\"../Bicorpus/bicorpus\", \"w\")"
   ]
  },
  {
   "cell_type": "code",
   "execution_count": 5,
   "metadata": {},
   "outputs": [
    {
     "name": "stdout",
     "output_type": "stream",
     "text": [
      "The Sorrows of Young Werther - Johann Wolfgang von Goethe.txt\n",
      "Great Expectations - Charles Dickens.txt\n",
      "Pride and Prejudice -  Jane Austen.txt\n",
      "The Castle - Franz Kafka.txt\n",
      "The Royal Game - Stefan Zweig.txt\n",
      "Twenty Years After - Alexandre Dumas.txt\n",
      "The Danube Pilot - Jules Verne.txt\n",
      "First Love - Ivan Turgenev.txt\n",
      "Candide - Voltaire.txt\n",
      "Journey to the Center of the Earth - Jules Verne.txt\n",
      "Wind, Sand and Stars - Antoine de Saint-Exupery.txt\n",
      "The Three Musketeers  - Alexandre Dumas.txt\n",
      "Madame Bovary - Gustave Flaubert.txt\n",
      "Le Grand Meaulnes - Alain Fournier.txt\n",
      "The Magic Skin - Honore de Balzac.txt\n",
      "The Waif of the Cynthia - Jules Verne.txt\n",
      "Dubliners - James Joyce.txt\n",
      "The Little Prince - Antoine de Saint-Exupery.txt\n",
      "The Ladies' Paradise - Emile Zola.txt\n",
      "The Red and the Black - Stendhal.txt\n",
      "Odyssey - Homer.txt\n",
      "Quo Vadis - Henryk Sienkiewicz.txt\n",
      "Ninety-Three - Victor Hugo.txt\n",
      "The Vanished Diamond  - Jules Verne.txt\n",
      "The Black Tulip - Alexandre Dumas.txt\n",
      "The Lighthouse at the End of the World - Jules Verne.txt\n",
      "The Barsac Mission - Jules Verne.txt\n",
      "In Desert and Wilderness - Henryk Sienkiewicz- Viet.txt\n",
      "David Copperfield - Charles Dickens.txt\n",
      "Around the World in Eighty Days - Jules Verne.txt\n",
      "A Christmas Carol - Charles Dickens.txt\n",
      "The Man Who Laughs - Victor Hugo.txt\n",
      "Eugenie Grandet - Honore de Balzac.txt\n",
      "Les Miserables - Victor Hugo.txt\n",
      "Therese Raquin - Emile Zola.txt\n"
     ]
    }
   ],
   "source": [
    "for file in inputFiles:\n",
    "    print(file.split(\"/\")[-1])\n",
    "    outputPath = outputFolder + file.split(\"/\")[-1]\n",
    "    with open(file, \"r\") as infile:\n",
    "        lines = infile.readlines()\n",
    "    outfile = open(outputPath, \"w\")\n",
    "    \n",
    "    for line in lines:\n",
    "        src, tgt, score = line.split(\"\\t\")\n",
    "        score = float(score)\n",
    "        if (score < 0.2): #score less than 0.2\n",
    "            continue #ignore this line\n",
    "        \n",
    "        #remove the lines seperator\n",
    "        src = src.replace(\"~~~ \", \"\")\n",
    "        tgt = tgt.replace(\"~~~ \", \"\")\n",
    "        outfile.write(tgt + \"\\t\" + src + \"\\n\")\n",
    "        outfile2.write(tgt + \"\\t\" + src + \"\\n\")\n",
    "        \n",
    "    outfile.close()\n",
    "outfile2.close()"
   ]
  }
 ],
 "metadata": {
  "kernelspec": {
   "display_name": "Python 3",
   "language": "python",
   "name": "python3"
  },
  "language_info": {
   "codemirror_mode": {
    "name": "ipython",
    "version": 3
   },
   "file_extension": ".py",
   "mimetype": "text/x-python",
   "name": "python",
   "nbconvert_exporter": "python",
   "pygments_lexer": "ipython3",
   "version": "3.7.7"
  }
 },
 "nbformat": 4,
 "nbformat_minor": 4
}
