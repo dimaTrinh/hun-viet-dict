{
 "cells": [
  {
   "cell_type": "code",
   "execution_count": 1,
   "metadata": {},
   "outputs": [],
   "source": [
    "import json\n",
    "import glob"
   ]
  },
  {
   "cell_type": "code",
   "execution_count": 2,
   "metadata": {},
   "outputs": [],
   "source": [
    "#batchName = [\"vdict VI-EN\", \"vdict VI-FR\", \"soha VI-EN\", \"soha VI-FR\"]\n",
    "batchName = [\"vdict VI-EN\", \"vdict VI-FR\"]"
   ]
  },
  {
   "cell_type": "code",
   "execution_count": 3,
   "metadata": {
    "scrolled": true
   },
   "outputs": [
    {
     "ename": "SyntaxError",
     "evalue": "invalid syntax (<ipython-input-3-0a805594cff1>, line 7)",
     "output_type": "error",
     "traceback": [
      "\u001b[0;36m  File \u001b[0;32m\"<ipython-input-3-0a805594cff1>\"\u001b[0;36m, line \u001b[0;32m7\u001b[0m\n\u001b[0;31m    batchFiles = glob.glob(ver1batchDir) + glob.glob(ver2BatchDir) +\u001b[0m\n\u001b[0m                                                                     ^\u001b[0m\n\u001b[0;31mSyntaxError\u001b[0m\u001b[0;31m:\u001b[0m invalid syntax\n"
     ]
    }
   ],
   "source": [
    "for name in batchName:\n",
    "    print(name)\n",
    "    ver1batchDir = \"../Dict Scraping/Batches File/\" + name + \" batch*.json\"\n",
    "    ver2BatchDir = \"../Dict Scraping/Batches File/\" + name + \" new ver*.json\"\n",
    "    ver3BatchDir = \"../Dict Scraping/Batches File/\" + name + \" ver 3*.json\"\n",
    "    ver4BatchDir = \"../Dict Scraping/Batches File/\" + name + \" ver 4*.json\"\n",
    "    batchFiles = glob.glob(ver1batchDir) + glob.glob(ver2BatchDir) + glob.glob(ver3BatchDir) + glob.glob(glob.glob(ver4BatchDir))\n",
    "\n",
    "    batchDict = {}\n",
    "    \n",
    "    for batch in batchFiles:\n",
    "        addCount = 0 #counting the words adding for each batch\n",
    "        cleanCount = 0 #counting the meaningful words (words with definitions) for each batch\n",
    "        \n",
    "        print(batch)\n",
    "        #getting one batch's dictionary\n",
    "        with open(batch) as infile:\n",
    "            temp = json.load(infile)\n",
    "            \n",
    "        for (word, meaning) in temp.items():\n",
    "            if ((meaning != \"N/A\") and (word != \"unknownPos\") and (meaning['nums'] != 0)):\n",
    "                cleanCount+=1\n",
    "                if (word not in batchDict):\n",
    "                    batchDict[word] = meaning\n",
    "                    addCount+=1\n",
    "        print(\"Size of batch is {} words. Added {} words\".format(cleanCount, addCount))\n",
    "        \n",
    "    with open('../Dict Scraping/Combined/{} ver 4.json'.format(name), 'w') as outfile:\n",
    "        json.dump(batchDict, outfile)\n",
    "    print(\"Length of dictionary: {}\".format(len(batchDict.items())))"
   ]
  }
 ],
 "metadata": {
  "kernelspec": {
   "display_name": "Python 3",
   "language": "python",
   "name": "python3"
  },
  "language_info": {
   "codemirror_mode": {
    "name": "ipython",
    "version": 3
   },
   "file_extension": ".py",
   "mimetype": "text/x-python",
   "name": "python",
   "nbconvert_exporter": "python",
   "pygments_lexer": "ipython3",
   "version": "3.7.6"
  }
 },
 "nbformat": 4,
 "nbformat_minor": 4
}
