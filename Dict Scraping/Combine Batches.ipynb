{
 "cells": [
  {
   "cell_type": "code",
   "execution_count": 1,
   "metadata": {},
   "outputs": [],
   "source": [
    "import json\n",
    "import glob"
   ]
  },
  {
   "cell_type": "code",
   "execution_count": 2,
   "metadata": {},
   "outputs": [],
   "source": [
    "batchName = [\"vdict VI-EN\", \"vdict VI-FR\", \"soha VI-EN\", \"soha VI-FR\"]"
   ]
  },
  {
   "cell_type": "code",
   "execution_count": 3,
   "metadata": {},
   "outputs": [
    {
     "name": "stdout",
     "output_type": "stream",
     "text": [
      "vdict VI-EN\n",
      "../Dict Scraping/Batches File/vdict VI-EN batch 8.json\n",
      "../Dict Scraping/Batches File/vdict VI-EN batch 910.json\n",
      "../Dict Scraping/Batches File/vdict VI-EN batch 67.json\n",
      "../Dict Scraping/Batches File/vdict VI-EN batch 23.json\n",
      "../Dict Scraping/Batches File/vdict VI-EN batch 6.json\n",
      "../Dict Scraping/Batches File/vdict VI-EN batch 0.json\n",
      "../Dict Scraping/Batches File/vdict VI-EN batch 45.json\n",
      "../Dict Scraping/Batches File/vdict VI-EN batch 1.json\n",
      "../Dict Scraping/Batches File/vdict VI-EN batch 11.json\n",
      "Length of dictionary: 4511\n",
      "vdict VI-FR\n",
      "../Dict Scraping/Batches File/vdict VI-FR batch 89.json\n",
      "../Dict Scraping/Batches File/vdict VI-FR batch 1011.json\n",
      "../Dict Scraping/Batches File/vdict VI-FR batch 7.json\n",
      "../Dict Scraping/Batches File/vdict VI-FR batch 5.json\n",
      "../Dict Scraping/Batches File/vdict VI-FR batch 13.json\n",
      "../Dict Scraping/Batches File/vdict VI-FR batch 12.json\n",
      "../Dict Scraping/Batches File/vdict VI-FR batch 6.json\n",
      "../Dict Scraping/Batches File/vdict VI-FR batch 1.json\n",
      "../Dict Scraping/Batches File/vdict VI-FR batch 4.json\n",
      "../Dict Scraping/Batches File/vdict VI-FR batch 23.json\n",
      "../Dict Scraping/Batches File/vdict VI-FR batch 0.json\n",
      "Length of dictionary: 5082\n",
      "soha VI-EN\n",
      "../Dict Scraping/Batches File/soha VI-EN batch 0.json\n",
      "../Dict Scraping/Batches File/soha VI-EN batch 8.json\n",
      "../Dict Scraping/Batches File/soha VI-EN batch 7.json\n",
      "../Dict Scraping/Batches File/soha VI-EN batch 4.json\n",
      "../Dict Scraping/Batches File/soha VI-EN batch 3.json\n",
      "../Dict Scraping/Batches File/soha VI-EN batch 5.json\n",
      "../Dict Scraping/Batches File/soha VI-EN batch 9.json\n",
      "../Dict Scraping/Batches File/soha VI-EN batch 6.json\n",
      "../Dict Scraping/Batches File/soha VI-EN batch 1.json\n",
      "../Dict Scraping/Batches File/soha VI-EN batch 2.json\n",
      "Length of dictionary: 5125\n",
      "soha VI-FR\n",
      "../Dict Scraping/Batches File/soha VI-FR batch 4.json\n",
      "../Dict Scraping/Batches File/soha VI-FR batch 3.json\n",
      "../Dict Scraping/Batches File/soha VI-FR batch 0.json\n",
      "../Dict Scraping/Batches File/soha VI-FR batch 1.json\n",
      "../Dict Scraping/Batches File/soha VI-FR batch 2.json\n",
      "Length of dictionary: 4971\n"
     ]
    }
   ],
   "source": [
    "for name in batchName:\n",
    "    print(name)\n",
    "    batchDir = \"../Dict Scraping/Batches File/\" + name + \" batch*.json\"\n",
    "    batchFiles = glob.glob(batchDir)\n",
    "\n",
    "    batchDict = {}\n",
    "    \n",
    "    for (index, batch) in enumerate(batchFiles):\n",
    "        print(batch)\n",
    "        #getting one batch's dictionary\n",
    "        with open(batch) as infile:\n",
    "            temp = json.load(infile)\n",
    "            \n",
    "        for (word, meaning) in temp.items():\n",
    "            if ((word not in batchDict) and (meaning != \"N/A\") \n",
    "                and (word != \"unknownPos\") and (meaning['nums'] != 0)):\n",
    "                batchDict[word] = meaning        \n",
    "        \n",
    "    with open('../Dict Scraping/Batches File/{} ver 2.json'.format(name), 'w') as outfile:\n",
    "        json.dump(batchDict, outfile)\n",
    "    print(\"Length of dictionary: {}\".format(len(batchDict.items())))"
   ]
  }
 ],
 "metadata": {
  "kernelspec": {
   "display_name": "Python 3",
   "language": "python",
   "name": "python3"
  },
  "language_info": {
   "codemirror_mode": {
    "name": "ipython",
    "version": 3
   },
   "file_extension": ".py",
   "mimetype": "text/x-python",
   "name": "python",
   "nbconvert_exporter": "python",
   "pygments_lexer": "ipython3",
   "version": "3.7.6"
  }
 },
 "nbformat": 4,
 "nbformat_minor": 4
}
