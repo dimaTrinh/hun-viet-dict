{
 "cells": [
  {
   "cell_type": "code",
   "execution_count": 1,
   "metadata": {},
   "outputs": [],
   "source": [
    "import glob\n",
    "import re\n",
    "import json\n",
    "import time"
   ]
  },
  {
   "cell_type": "code",
   "execution_count": 2,
   "metadata": {},
   "outputs": [],
   "source": [
    "start_time = time.time()"
   ]
  },
  {
   "cell_type": "code",
   "execution_count": 3,
   "metadata": {},
   "outputs": [],
   "source": [
    "wordsFiles = glob.glob('./Extracted Freq List/*')"
   ]
  },
  {
   "cell_type": "code",
   "execution_count": 4,
   "metadata": {},
   "outputs": [
    {
     "data": {
      "text/plain": [
       "['./Extracted Freq List/freqList300_399',\n",
       " './Extracted Freq List/freqList100_199',\n",
       " './Extracted Freq List/freqList00_99',\n",
       " './Extracted Freq List/freqList600_699',\n",
       " './Extracted Freq List/freqList700_799',\n",
       " './Extracted Freq List/freqList400_499',\n",
       " './Extracted Freq List/freqList500_599',\n",
       " './Extracted Freq List/freqList200_299']"
      ]
     },
     "execution_count": 4,
     "metadata": {},
     "output_type": "execute_result"
    }
   ],
   "source": [
    "wordsFiles"
   ]
  },
  {
   "cell_type": "code",
   "execution_count": 5,
   "metadata": {},
   "outputs": [],
   "source": [
    "def extractWordFreq(line):\n",
    "    temp = line.strip().split(' ')\n",
    "    if (len(temp) == 2):\n",
    "        return temp[0], temp[1] #freq, item\n",
    "    else:\n",
    "        return temp[0], \"@\" #freq, random character to make sure this item is not chosen"
   ]
  },
  {
   "cell_type": "code",
   "execution_count": 6,
   "metadata": {},
   "outputs": [],
   "source": [
    "def containsAnyChar(word):\n",
    "    return (re.search('[a-zA-Z]', word) is not None)"
   ]
  },
  {
   "cell_type": "code",
   "execution_count": 7,
   "metadata": {},
   "outputs": [
    {
     "data": {
      "text/plain": [
       "True"
      ]
     },
     "execution_count": 7,
     "metadata": {},
     "output_type": "execute_result"
    }
   ],
   "source": [
    "containsAnyChar(\"ấn\")"
   ]
  },
  {
   "cell_type": "code",
   "execution_count": 8,
   "metadata": {},
   "outputs": [
    {
     "data": {
      "text/plain": [
       "False"
      ]
     },
     "execution_count": 8,
     "metadata": {},
     "output_type": "execute_result"
    }
   ],
   "source": [
    "containsAnyChar(\"12\")"
   ]
  },
  {
   "cell_type": "code",
   "execution_count": 9,
   "metadata": {},
   "outputs": [],
   "source": [
    "def containsForbiddenChar(word):\n",
    "    return (re.search('[@=\\{\\}]', word) is not None)"
   ]
  },
  {
   "cell_type": "code",
   "execution_count": 10,
   "metadata": {},
   "outputs": [
    {
     "data": {
      "text/plain": [
       "False"
      ]
     },
     "execution_count": 10,
     "metadata": {},
     "output_type": "execute_result"
    }
   ],
   "source": [
    "containsForbiddenChar(\"^ak\")"
   ]
  },
  {
   "cell_type": "code",
   "execution_count": 11,
   "metadata": {},
   "outputs": [
    {
     "data": {
      "text/plain": [
       "True"
      ]
     },
     "execution_count": 11,
     "metadata": {},
     "output_type": "execute_result"
    }
   ],
   "source": [
    "containsForbiddenChar(\"{ak\")"
   ]
  },
  {
   "cell_type": "code",
   "execution_count": 12,
   "metadata": {},
   "outputs": [],
   "source": [
    "def containsLink(word):\n",
    "    return ((\"http\" in word) or (\".com\" in word) or (\".vn\" in word) or (\".edu\" in word)) "
   ]
  },
  {
   "cell_type": "code",
   "execution_count": 13,
   "metadata": {},
   "outputs": [
    {
     "data": {
      "text/plain": [
       "True"
      ]
     },
     "execution_count": 13,
     "metadata": {},
     "output_type": "execute_result"
    }
   ],
   "source": [
    "containsLink(\"http:safsa\")"
   ]
  },
  {
   "cell_type": "code",
   "execution_count": 14,
   "metadata": {},
   "outputs": [
    {
     "data": {
      "text/plain": [
       "True"
      ]
     },
     "execution_count": 14,
     "metadata": {},
     "output_type": "execute_result"
    }
   ],
   "source": [
    "containsLink(\"asf.edu\")"
   ]
  },
  {
   "cell_type": "code",
   "execution_count": 15,
   "metadata": {},
   "outputs": [],
   "source": [
    "#split by special characters \n",
    "def splitWord(word):\n",
    "    return re.split(r'[\\W]', word)"
   ]
  },
  {
   "cell_type": "code",
   "execution_count": 16,
   "metadata": {},
   "outputs": [
    {
     "data": {
      "text/plain": [
       "['word', '', 'word']"
      ]
     },
     "execution_count": 16,
     "metadata": {},
     "output_type": "execute_result"
    }
   ],
   "source": [
    "splitWord(\"word..word\")"
   ]
  },
  {
   "cell_type": "code",
   "execution_count": 17,
   "metadata": {},
   "outputs": [
    {
     "data": {
      "text/plain": [
       "['xhdc', 'sad']"
      ]
     },
     "execution_count": 17,
     "metadata": {},
     "output_type": "execute_result"
    }
   ],
   "source": [
    "splitWord(\"xhdc-sad\")"
   ]
  },
  {
   "cell_type": "code",
   "execution_count": 18,
   "metadata": {},
   "outputs": [
    {
     "data": {
      "text/plain": [
       "['hello']"
      ]
     },
     "execution_count": 18,
     "metadata": {},
     "output_type": "execute_result"
    }
   ],
   "source": [
    "splitWord(\"hello\")"
   ]
  },
  {
   "cell_type": "code",
   "execution_count": 19,
   "metadata": {},
   "outputs": [],
   "source": [
    "#remove any special characters but space, lower case the word and strip trailing spaces\n",
    "def cleanWord(word):\n",
    "    return re.sub(r'[^\\w ]+', '', word).lower().strip()"
   ]
  },
  {
   "cell_type": "code",
   "execution_count": 20,
   "metadata": {},
   "outputs": [
    {
     "data": {
      "text/plain": [
       "'hấn'"
      ]
     },
     "execution_count": 20,
     "metadata": {},
     "output_type": "execute_result"
    }
   ],
   "source": [
    "cleanWord(\"hấn%^^&\")"
   ]
  },
  {
   "cell_type": "code",
   "execution_count": 21,
   "metadata": {},
   "outputs": [
    {
     "data": {
      "text/plain": [
       "'hấn hấn'"
      ]
     },
     "execution_count": 21,
     "metadata": {},
     "output_type": "execute_result"
    }
   ],
   "source": [
    "cleanWord(\"hấn hấn\")"
   ]
  },
  {
   "cell_type": "code",
   "execution_count": 22,
   "metadata": {},
   "outputs": [
    {
     "data": {
      "text/plain": [
       "'hấn'"
      ]
     },
     "execution_count": 22,
     "metadata": {},
     "output_type": "execute_result"
    }
   ],
   "source": [
    "cleanWord(\"hấn \")"
   ]
  },
  {
   "cell_type": "code",
   "execution_count": 23,
   "metadata": {},
   "outputs": [],
   "source": [
    "freqList = {}"
   ]
  },
  {
   "cell_type": "code",
   "execution_count": null,
   "metadata": {},
   "outputs": [
    {
     "name": "stdout",
     "output_type": "stream",
     "text": [
      "./Extracted Freq List/freqList300_399\n"
     ]
    }
   ],
   "source": [
    "for wordsFile in wordsFiles:\n",
    "    print(wordsFile)\n",
    "    with open(wordsFile, 'r') as infile:\n",
    "        lines = infile.readlines()\n",
    "        for line in lines:\n",
    "            freq, item = extractWordFreq(line) #extracting the frequency and item from each line\n",
    "            \n",
    "            #item contains at least one character\n",
    "            #does not contain any forbidden characters\n",
    "            #not a link\n",
    "            if (containsAnyChar(item) and not containsForbiddenChar(item) and not containsLink(item)): \n",
    "                #split by special characters \n",
    "                words = splitWord(item) \n",
    "                for word in words:\n",
    "                    if (containsAnyChar(word)):\n",
    "                        word = cleanWord(word)\n",
    "                    else:\n",
    "                        continue\n",
    "                    if word not in freqList: #initialize the word if it has not been found\n",
    "                        freqList[word] = int(freq)\n",
    "                    else: #add to the frequency if the word is already in there\n",
    "                        freqList[word] = int(freqList[word]) + int(freq)"
   ]
  },
  {
   "cell_type": "code",
   "execution_count": null,
   "metadata": {},
   "outputs": [],
   "source": [
    "len(freqList.items())"
   ]
  },
  {
   "cell_type": "code",
   "execution_count": null,
   "metadata": {},
   "outputs": [],
   "source": [
    "engList = {}\n",
    "with open('./engWordList', 'r') as infile:\n",
    "    lines = infile.readlines()\n",
    "    for line in lines[0:30000]:\n",
    "        freq, word = extractWordFreq(line) #extracting the word and frequency from each line\n",
    "        \n",
    "        if word not in engList: #initialize the word if it has not been found\n",
    "            engList[word] = int(freq)\n",
    "        else: #add to the frequency if the word is already in there\n",
    "            engList[word] = int(engList[word]) + int(freq)"
   ]
  },
  {
   "cell_type": "code",
   "execution_count": null,
   "metadata": {},
   "outputs": [],
   "source": [
    "for engWord in engList.keys():\n",
    "    temp = engWord.lower()\n",
    "    if temp in freqList: #if an english word is found, remove it from the dictionary\n",
    "        freqList.pop(temp)"
   ]
  },
  {
   "cell_type": "code",
   "execution_count": null,
   "metadata": {},
   "outputs": [],
   "source": [
    "len(freqList.items())"
   ]
  },
  {
   "cell_type": "code",
   "execution_count": null,
   "metadata": {},
   "outputs": [],
   "source": [
    "sortedList = sorted(freqList.items(), key=lambda x: x[1], reverse=True)"
   ]
  },
  {
   "cell_type": "code",
   "execution_count": null,
   "metadata": {},
   "outputs": [],
   "source": [
    "with open('./vietWordList', 'w') as outfile:\n",
    "    for (word, freq) in sortedList:\n",
    "        outfile.write(str(freq) + \" \" + word + \"\\n\")"
   ]
  },
  {
   "cell_type": "code",
   "execution_count": null,
   "metadata": {},
   "outputs": [],
   "source": [
    "print(\"--- %s seconds ---\" % (time.time() - start_time))"
   ]
  }
 ],
 "metadata": {
  "kernelspec": {
   "display_name": "Python 3",
   "language": "python",
   "name": "python3"
  },
  "language_info": {
   "codemirror_mode": {
    "name": "ipython",
    "version": 3
   },
   "file_extension": ".py",
   "mimetype": "text/x-python",
   "name": "python",
   "nbconvert_exporter": "python",
   "pygments_lexer": "ipython3",
   "version": "3.7.6"
  }
 },
 "nbformat": 4,
 "nbformat_minor": 4
}
