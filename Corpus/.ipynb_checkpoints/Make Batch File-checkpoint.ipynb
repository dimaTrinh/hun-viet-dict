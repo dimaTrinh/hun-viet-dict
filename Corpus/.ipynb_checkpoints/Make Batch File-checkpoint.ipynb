{
 "cells": [
  {
   "cell_type": "code",
   "execution_count": 1,
   "metadata": {},
   "outputs": [],
   "source": [
    "import glob"
   ]
  },
  {
   "cell_type": "code",
   "execution_count": 2,
   "metadata": {},
   "outputs": [],
   "source": [
    "vietFiles = glob.glob('./Cleaned/*Viet.txt')\n",
    "hungFiles = glob.glob('./Cleaned/*Hung.txt')"
   ]
  },
  {
   "cell_type": "code",
   "execution_count": 3,
   "metadata": {},
   "outputs": [
    {
     "data": {
      "text/plain": [
       "(50, 50)"
      ]
     },
     "execution_count": 3,
     "metadata": {},
     "output_type": "execute_result"
    }
   ],
   "source": [
    "len(vietFiles), len(hungFiles)"
   ]
  },
  {
   "cell_type": "code",
   "execution_count": 4,
   "metadata": {},
   "outputs": [],
   "source": [
    "outfile = open('./hunalign-1.1/batchFile', 'w')"
   ]
  },
  {
   "cell_type": "code",
   "execution_count": 5,
   "metadata": {},
   "outputs": [
    {
     "data": {
      "text/plain": [
       "['./Cleaned\\\\A Christmas Carol - Charles Dickens - Viet.txt',\n",
       " './Cleaned\\\\Around the World in Eighty Days - Jules Verne - Viet.txt',\n",
       " './Cleaned\\\\Candide - Voltaire - Viet.txt',\n",
       " './Cleaned\\\\David Copperfield - Charles Dickens - Viet.txt',\n",
       " './Cleaned\\\\Dick Sand, A Captain at Fifteen - Jules Verne - Viet.txt']"
      ]
     },
     "execution_count": 5,
     "metadata": {},
     "output_type": "execute_result"
    }
   ],
   "source": [
    "vietFiles[0:5]"
   ]
  },
  {
   "cell_type": "code",
   "execution_count": 6,
   "metadata": {},
   "outputs": [],
   "source": [
    "for file in vietFiles:\n",
    "    vietFile = file.split('\\\\')[-1]\n",
    "    hungFile = file.split('\\\\')[-1].replace(\"Viet\", \"Hung\")\n",
    "    vietLink = \"Cleaned/\" + vietFile\n",
    "    hungLink = \"Cleaned/\" + hungFile\n",
    "    testHungLink = \"./Cleaned\\\\\" + hungFile\n",
    "    if (not testHungLink in hungFiles):\n",
    "        print(\"File not found: \" + hungFile)\n",
    "    else:\n",
    "        alignLink = \"Align/\" + vietFile.replace(\" - Viet\", \"\")\n",
    "        outfile.write(vietLink + \"\\t\" + hungLink + \"\\t\" + alignLink + \"\\n\")"
   ]
  },
  {
   "cell_type": "code",
   "execution_count": 7,
   "metadata": {},
   "outputs": [],
   "source": [
    "outfile.close()"
   ]
  }
 ],
 "metadata": {
  "kernelspec": {
   "display_name": "Python 3",
   "language": "python",
   "name": "python3"
  },
  "language_info": {
   "codemirror_mode": {
    "name": "ipython",
    "version": 3
   },
   "file_extension": ".py",
   "mimetype": "text/x-python",
   "name": "python",
   "nbconvert_exporter": "python",
   "pygments_lexer": "ipython3",
   "version": "3.7.7"
  }
 },
 "nbformat": 4,
 "nbformat_minor": 4
}
