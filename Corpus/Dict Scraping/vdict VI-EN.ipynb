{
 "cells": [
  {
   "cell_type": "code",
   "execution_count": 1,
   "metadata": {},
   "outputs": [],
   "source": [
    "import urllib.request \n",
    "from urllib.parse import quote \n",
    "from bs4 import BeautifulSoup\n",
    "import json"
   ]
  },
  {
   "cell_type": "code",
   "execution_count": 2,
   "metadata": {},
   "outputs": [],
   "source": [
    "#Source: https://codezup.com/web-scraping-word-meaning-dictionary-python-beautifulsoup/"
   ]
  },
  {
   "cell_type": "code",
   "execution_count": 3,
   "metadata": {},
   "outputs": [],
   "source": [
    "with open('./wordList', 'r') as infile:\n",
    "    wordList = infile.read()"
   ]
  },
  {
   "cell_type": "code",
   "execution_count": 4,
   "metadata": {},
   "outputs": [],
   "source": [
    "wordList = wordList.split()"
   ]
  },
  {
   "cell_type": "code",
   "execution_count": 5,
   "metadata": {},
   "outputs": [
    {
     "data": {
      "text/plain": [
       "['một',\n",
       " 'và',\n",
       " 'của',\n",
       " 'là',\n",
       " 'có',\n",
       " 'không',\n",
       " 'tôi',\n",
       " 'người',\n",
       " 'những',\n",
       " 'đã',\n",
       " 'ông',\n",
       " 'cho',\n",
       " 'như',\n",
       " 'ta',\n",
       " 'trong']"
      ]
     },
     "execution_count": 5,
     "metadata": {},
     "output_type": "execute_result"
    }
   ],
   "source": [
    "wordList"
   ]
  },
  {
   "cell_type": "code",
   "execution_count": 6,
   "metadata": {},
   "outputs": [],
   "source": [
    "#The link format for vdict Viet-Eng is: https://vdict.com/m%E1%BB%99t,2,0,0.html"
   ]
  },
  {
   "cell_type": "code",
   "execution_count": 7,
   "metadata": {},
   "outputs": [],
   "source": [
    "#Converting IRI to ASCII:\n",
    "#https://stackoverflow.com/questions/4389572/how-to-fetch-a-non-ascii-url-with-python-urlopen"
   ]
  },
  {
   "cell_type": "code",
   "execution_count": 8,
   "metadata": {},
   "outputs": [],
   "source": [
    "def findTranslation(word):\n",
    "    url = \"https://vdict.com/\" + quote(word) + \",2,0,0.html\" #resolving the IRI issue\n",
    "\n",
    "    source = urllib.request.urlopen(url)\n",
    "    soup = BeautifulSoup(source, 'lxml')\n",
    "    \n",
    "    translations = {}\n",
    "    \n",
    "    #Getting all the POS of a word\n",
    "    pos = [item.string.split(' \\xa0')[0] for item in soup.findAll(\"div\", class_ = 'phanloai')]\n",
    "    \n",
    "    #the number of translations should be equal to the number of TOS \n",
    "    translations['nums'] = len(pos)\n",
    "    \n",
    "    #find all translations on the site\n",
    "    containers = soup.findAll(\"ul\", class_= \"list1\")[0:len(pos)]\n",
    "    \n",
    "    for i in range(0, len(pos)):\n",
    "        temp= {} #temp dict to store each translation of a word\n",
    "        \n",
    "        #getting the raw translation\n",
    "        if (containers[i].find('b').find(',') != -1): #split by ','\n",
    "            temp['translation'] = containers[i].find('b').string.split(',') \n",
    "        else:\n",
    "            temp['translation'] = containers[i].find('b').string.split(';') \n",
    "        \n",
    "        temp['POS'] = pos[i]\n",
    "        \n",
    "        #retrieving the examples of each of the translations\n",
    "        try:\n",
    "            examples = containers[i].findAll(\"ul\", class_= \"list2\")\n",
    "            temp2 = {} #another dict to store each examples of a translation\n",
    "            \n",
    "            numExamples = len(list(examples))\n",
    "            temp2['nums'] = numExamples\n",
    "            \n",
    "            for i in range(0, numExamples):\n",
    "                temp2['context'] = examples[i].find(class_ = \"example-original\").string\n",
    "            \n",
    "                #retrieving the contexts of each examples\n",
    "                try: \n",
    "                    tempString = str(examples[i].find(\"li\")) #extracting the context\n",
    "                    temp2['usage ' + str(i+1)] = tempString[tempString.find(\"<br/>\")+5:-5]\n",
    "                except:\n",
    "                    temp2['usage ' + str(i+1)] = \"N/A\"\n",
    "                \n",
    "            temp['examples'] = temp2\n",
    "        except:\n",
    "            temp['examples'] = \"N/A\"\n",
    "        translations[str(i+1)] = temp\n",
    "        \n",
    "    return translations"
   ]
  },
  {
   "cell_type": "code",
   "execution_count": 9,
   "metadata": {},
   "outputs": [],
   "source": [
    "url = \"https://vdict.com/\" + quote(\"một\") + \",2,0,0.html\" #resolving the IRI issue\n",
    "\n",
    "source = urllib.request.urlopen(url)\n",
    "soup = BeautifulSoup(source, 'lxml')"
   ]
  },
  {
   "cell_type": "code",
   "execution_count": 10,
   "metadata": {},
   "outputs": [],
   "source": [
    "pos = [item.string.split(' \\xa0')[0] for item in soup.findAll(\"div\", class_ = 'phanloai')]"
   ]
  },
  {
   "cell_type": "code",
   "execution_count": 11,
   "metadata": {},
   "outputs": [
    {
     "data": {
      "text/plain": [
       "[<ul class=\"list1\"><li><b>one</b><ul class=\"list2\"><li><span class=\"example-original\">từng cái (người) một</span><br/>one by one. a; an</li></ul><ul class=\"list2\"><li><span class=\"example-original\">một ngày</span><br/>a day</li></ul><ul class=\"list2\"><li><span class=\"example-original\">một bên</span><br/>an one hand</li></ul></li></ul>]"
      ]
     },
     "execution_count": 11,
     "metadata": {},
     "output_type": "execute_result"
    }
   ],
   "source": [
    "containers = soup.findAll(\"ul\", class_= \"list1\")[0:len(pos)]\n",
    "containers"
   ]
  },
  {
   "cell_type": "code",
   "execution_count": 12,
   "metadata": {},
   "outputs": [
    {
     "data": {
      "text/plain": [
       "['one']"
      ]
     },
     "execution_count": 12,
     "metadata": {},
     "output_type": "execute_result"
    }
   ],
   "source": [
    "meanings = [item.find('b').string for item in containers[0:len(pos)]] #word translation\n",
    "meanings"
   ]
  },
  {
   "cell_type": "code",
   "execution_count": 13,
   "metadata": {},
   "outputs": [
    {
     "data": {
      "text/plain": [
       "'a day'"
      ]
     },
     "execution_count": 13,
     "metadata": {},
     "output_type": "execute_result"
    }
   ],
   "source": [
    "examples = containers[0].findAll(\"ul\", class_= \"list2\")\n",
    "temp = str(examples[1].find(\"li\"))\n",
    "temp[temp.find(\"<br/>\")+5:-5]"
   ]
  },
  {
   "cell_type": "code",
   "execution_count": 14,
   "metadata": {},
   "outputs": [],
   "source": [
    "dictionary = {word: findTranslation(word) for word in wordList}"
   ]
  },
  {
   "cell_type": "code",
   "execution_count": 15,
   "metadata": {},
   "outputs": [
    {
     "data": {
      "text/plain": [
       "{'một': {'nums': 1,\n",
       "  '3': {'translation': ['one'],\n",
       "   'POS': '',\n",
       "   'examples': {'nums': 3,\n",
       "    'context': 'một bên',\n",
       "    'usage 1': 'one by one. a; an',\n",
       "    'usage 2': 'a day',\n",
       "    'usage 3': 'an one hand'}}},\n",
       " 'và': {'nums': 1,\n",
       "  '1': {'translation': ['and'], 'POS': 'conj', 'examples': {'nums': 0}}},\n",
       " 'của': {'nums': 2,\n",
       "  '1': {'translation': ['of; belong to; from'],\n",
       "   'POS': 'conj',\n",
       "   'examples': {'nums': 1,\n",
       "    'context': 'cô ta là bạn của tôi',\n",
       "    'usage 1': 'A girl friend of mine'}}},\n",
       " 'là': {'nums': 4,\n",
       "  '1': {'translation': ['to press iron'],\n",
       "   'POS': 'verb',\n",
       "   'examples': {'nums': 1, 'context': 'bàn là', 'usage 1': 'an iron'}},\n",
       "  '2': {'translation': ['then'],\n",
       "   'POS': 'conj',\n",
       "   'examples': {'nums': 2,\n",
       "    'context': 'đẹp đẹp là!',\n",
       "    'usage 1': 'how',\n",
       "    'usage 2': 'how beautiful!'}}},\n",
       " 'có': {'nums': 1,\n",
       "  '5': {'translation': ['To be'],\n",
       "   'POS': 'verb',\n",
       "   'examples': {'nums': 5,\n",
       "    'context': 'có tuổi',\n",
       "    'usage 1': 'if there is anyone asking for me, tell him I am not at home',\n",
       "    'usage 2': 'there is such an opportunity once in a thousand years; once in a lifetime',\n",
       "    'usage 3': 'there are only three of us in all',\n",
       "    'usage 4': 'leaves are green',\n",
       "    'usage 5': 'to be advanced in years'}}},\n",
       " 'không': {'nums': 2,\n",
       "  '3': {'translation': ['not; nothing; without'],\n",
       "   'POS': '',\n",
       "   'examples': {'nums': 3,\n",
       "    'context': 'chân không',\n",
       "    'usage 1': 'Have you seen him? My answer is no empty',\n",
       "    'usage 2': 'empty handed bare',\n",
       "    'usage 3': 'bare legs'}},\n",
       "  '1': {'translation': ['air'],\n",
       "   'POS': 'noun',\n",
       "   'examples': {'nums': 1,\n",
       "    'context': 'bay lượn trên không',\n",
       "    'usage 1': 'to float about in the air'}}},\n",
       " 'tôi': {'nums': 2,\n",
       "  '1': {'translation': ['subject servant self'],\n",
       "   'POS': 'noun',\n",
       "   'examples': {'nums': 0}},\n",
       "  '2': {'translation': ['I', ' me to temper', ' to slake'],\n",
       "   'POS': 'verb',\n",
       "   'examples': {'nums': 0}}},\n",
       " 'người': {'nums': 1,\n",
       "  '1': {'translation': ['man; person; people; individual'],\n",
       "   'POS': 'noun',\n",
       "   'examples': {'nums': 1, 'context': 'mọi người', 'usage 1': 'every man'}}},\n",
       " 'những': {'nums': 1,\n",
       "  '1': {'translation': ['Certain number of', ' some'],\n",
       "   'POS': '',\n",
       "   'examples': {'nums': 1,\n",
       "    'context': 'Có những nhận thức sai lầm',\n",
       "    'usage 1': 'There are a certain number of wrong notions'}}},\n",
       " 'đã': {'nums': 1,\n",
       "  '2': {'translation': ['already'],\n",
       "   'POS': 'adv',\n",
       "   'examples': {'nums': 2,\n",
       "    'context': 'chúng ta hãy học đã',\n",
       "    'usage 1': \"It's already late first\",\n",
       "    'usage 2': \"Let's learn first\"}}},\n",
       " 'ông': {'nums': 1,\n",
       "  '2': {'translation': ['grandfather'],\n",
       "   'POS': 'noun',\n",
       "   'examples': {'nums': 2,\n",
       "    'context': 'mời ông ấy vào',\n",
       "    'usage 1': 'paternal grandfather. gentleman',\n",
       "    'usage 2': 'Ask the gentleman to come in. you mister; you sir'}}},\n",
       " 'cho': {'nums': 1,\n",
       "  '7': {'translation': ['To give'],\n",
       "   'POS': 'verb',\n",
       "   'examples': {'nums': 7,\n",
       "    'context': 'kinh nghiệm lịch sử cho ta nhiều bài học quý',\n",
       "    'usage 1': 'he gave me a watch',\n",
       "    'usage 2': 'to give presents',\n",
       "    'usage 3': 'to give (something) free of charge, not to sell it',\n",
       "    'usage 4': 'doctors give prescriptions',\n",
       "    'usage 5': 'this task deserves to be given mark 5',\n",
       "    'usage 6': 'he was given a week to prepare',\n",
       "    'usage 7': 'history has given us many valuable lessons'}}},\n",
       " 'như': {'nums': 1,\n",
       "  '1': {'translation': ['as'],\n",
       "   'POS': '',\n",
       "   'examples': {'nums': 1,\n",
       "    'context': 'làm như tôi',\n",
       "    'usage 1': 'Do as I do'}}},\n",
       " 'ta': {'nums': 1,\n",
       "  '2': {'translation': ['I', ' me', ' my'],\n",
       "   'POS': 'pronoun',\n",
       "   'examples': {'nums': 2,\n",
       "    'context': 'ta đi thôi',\n",
       "    'usage 1': 'I think so, too. we, our, us',\n",
       "    'usage 2': \"let's go\"}}},\n",
       " 'trong': {'nums': 3,\n",
       "  '1': {'translation': ['clear', ' pure'],\n",
       "   'POS': 'adj',\n",
       "   'examples': {'nums': 0}},\n",
       "  '2': {'translation': ['within', ' in for'],\n",
       "   'POS': 'conj',\n",
       "   'examples': {'nums': 0}},\n",
       "  '3': {'translation': ['internal', ' interior'],\n",
       "   'POS': 'adj',\n",
       "   'examples': {'nums': 0}}}}"
      ]
     },
     "execution_count": 15,
     "metadata": {},
     "output_type": "execute_result"
    }
   ],
   "source": [
    "dictionary"
   ]
  },
  {
   "cell_type": "code",
   "execution_count": 17,
   "metadata": {},
   "outputs": [],
   "source": [
    "with open('dictionary.txt', 'w') as outfile:\n",
    "    json.dump(dictionary, outfile)"
   ]
  }
 ],
 "metadata": {
  "kernelspec": {
   "display_name": "Python 3",
   "language": "python",
   "name": "python3"
  },
  "language_info": {
   "codemirror_mode": {
    "name": "ipython",
    "version": 3
   },
   "file_extension": ".py",
   "mimetype": "text/x-python",
   "name": "python",
   "nbconvert_exporter": "python",
   "pygments_lexer": "ipython3",
   "version": "3.7.7"
  }
 },
 "nbformat": 4,
 "nbformat_minor": 4
}
