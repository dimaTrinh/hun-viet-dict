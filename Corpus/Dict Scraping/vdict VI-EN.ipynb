{
 "cells": [
  {
   "cell_type": "code",
   "execution_count": 1,
   "metadata": {},
   "outputs": [],
   "source": [
    "import urllib.request \n",
    "from urllib.parse import quote \n",
    "from bs4 import BeautifulSoup\n",
    "import json\n",
    "import re\n",
    "import time"
   ]
  },
  {
   "cell_type": "code",
   "execution_count": 2,
   "metadata": {},
   "outputs": [],
   "source": [
    "#Source: https://codezup.com/web-scraping-word-meaning-dictionary-python-beautifulsoup/"
   ]
  },
  {
   "cell_type": "code",
   "execution_count": 3,
   "metadata": {},
   "outputs": [],
   "source": [
    "with open('./wordList', 'r') as infile:\n",
    "    wordList = infile.read()"
   ]
  },
  {
   "cell_type": "code",
   "execution_count": 4,
   "metadata": {},
   "outputs": [],
   "source": [
    "wordList = wordList.split()"
   ]
  },
  {
   "cell_type": "code",
   "execution_count": 5,
   "metadata": {},
   "outputs": [
    {
     "data": {
      "text/plain": [
       "['một',\n",
       " 'và',\n",
       " 'của',\n",
       " 'là',\n",
       " 'có',\n",
       " 'không',\n",
       " 'tôi',\n",
       " 'người',\n",
       " 'những',\n",
       " 'đã',\n",
       " 'ông',\n",
       " 'cho',\n",
       " 'như',\n",
       " 'ta',\n",
       " 'trong']"
      ]
     },
     "execution_count": 5,
     "metadata": {},
     "output_type": "execute_result"
    }
   ],
   "source": [
    "wordList"
   ]
  },
  {
   "cell_type": "code",
   "execution_count": 6,
   "metadata": {},
   "outputs": [],
   "source": [
    "#The link format for vdict Viet-Eng is: https://vdict.com/m%E1%BB%99t,2,0,0.html"
   ]
  },
  {
   "cell_type": "code",
   "execution_count": 7,
   "metadata": {},
   "outputs": [],
   "source": [
    "#Converting IRI to ASCII:\n",
    "#https://stackoverflow.com/questions/4389572/how-to-fetch-a-non-ascii-url-with-python-urlopen"
   ]
  },
  {
   "cell_type": "code",
   "execution_count": 8,
   "metadata": {},
   "outputs": [],
   "source": [
    "def findTranslation(word):\n",
    "    url = \"https://vdict.com/\" + quote(word) + \",2,0,0.html\" #resolving the IRI issue\n",
    "    \n",
    "    try: #make sure the word is in the dictionary\n",
    "        source = urllib.request.urlopen(url)\n",
    "    except urllib.HTTPError:\n",
    "        print(\"Word not found \" + word)\n",
    "        return \"N/A\"\n",
    "    \n",
    "    soup = BeautifulSoup(source, 'lxml')\n",
    "\n",
    "    translations = {}\n",
    "\n",
    "    #Getting the first POS tag\n",
    "    firstPosTag = soup.find(\"div\", class_ = 'phanloai')\n",
    "    curPos = firstPosTag.string.split(' \\xa0')[0]\n",
    "\n",
    "    #first translation is a tag away from the first POS tag\n",
    "    curTag = firstPosTag.next_sibling.next_sibling\n",
    "\n",
    "    #storing the number of translations a word has\n",
    "    numTrans = 1\n",
    "\n",
    "    #continue while we are either in a POS tag or a translation tag\n",
    "    while (curTag != '\\n'): \n",
    "        if (curTag.attrs[\"class\"] == [\"list1\"]): #a translation\n",
    "            temp = {} #temp dict to store each translation of a word\n",
    "\n",
    "            #getting the raw translation\n",
    "            temp['translation'] = re.split('[,;]', curTag.find('b').string)\n",
    "            temp['POS'] = curPos\n",
    "\n",
    "            #retrieving the examples of each of the translations\n",
    "            try:\n",
    "                examples = curTag.findAll(\"ul\", class_= \"list2\")\n",
    "                temp2 = {} #another dict to store each examples of a translation\n",
    "\n",
    "                numExamples = len(list(examples))\n",
    "                temp2['nums'] = numExamples\n",
    "\n",
    "                for j in range(0, numExamples):\n",
    "                    temp2['context ' + str(j+1)] = examples[j].find(class_ = \"example-original\").string\n",
    "\n",
    "                    #retrieving the usage of each examples\n",
    "                    try: \n",
    "                        tempString = str(examples[j].find(\"li\")) #extracting the usage\n",
    "                        temp2['usage ' + str(j+1)] = tempString[tempString.find(\"<br/>\")+5:-5]\n",
    "                    except:\n",
    "                        temp2['usage ' + str(j+1)] = \"N/A\"\n",
    "\n",
    "                temp['examples'] = temp2\n",
    "            except:\n",
    "                temp['examples'] = \"N/A\"\n",
    "\n",
    "            translations[numTrans] = temp #adding the translation to the dictionary\n",
    "\n",
    "            #finding next tag\n",
    "            numTrans += 1\n",
    "            curTag = curTag.next_sibling\n",
    "        else: #a tag\n",
    "            curPos = curTag.string.split(' \\xa0')[0]\n",
    "            curTag = curTag.next_sibling\n",
    "\n",
    "    #storing the number of translations\n",
    "    translations['nums'] = numTrans - 1\n",
    "    return translations"
   ]
  },
  {
   "cell_type": "code",
   "execution_count": 9,
   "metadata": {},
   "outputs": [],
   "source": [
    "url = \"https://vdict.com/\" + quote(\"có\") + \",2,0,0.html\" #resolving the IRI issue\n",
    "\n",
    "try:\n",
    "    source = urllib.request.urlopen(url)\n",
    "except:\n",
    "    print( \"Link broken\")\n",
    "soup = BeautifulSoup(source, 'lxml')"
   ]
  },
  {
   "cell_type": "code",
   "execution_count": 10,
   "metadata": {},
   "outputs": [],
   "source": [
    "pos = [item.string.split(' \\xa0')[0] for item in soup.findAll(\"div\", class_ = 'phanloai')]"
   ]
  },
  {
   "cell_type": "code",
   "execution_count": 11,
   "metadata": {},
   "outputs": [
    {
     "data": {
      "text/plain": [
       "'\\n'"
      ]
     },
     "execution_count": 11,
     "metadata": {},
     "output_type": "execute_result"
    }
   ],
   "source": [
    "soup.find(\"div\", class_ = 'phanloai').next_sibling.next_sibling.next_sibling.next_sibling"
   ]
  },
  {
   "cell_type": "code",
   "execution_count": 12,
   "metadata": {},
   "outputs": [
    {
     "data": {
      "text/plain": [
       "[<ul class=\"list1\"><li><b>To be</b><ul class=\"list2\"><li><span class=\"example-original\">có ai hỏi, bảo tôi đi vắng</span><br/>if there is anyone asking for me, tell him I am not at home</li></ul><ul class=\"list2\"><li><span class=\"example-original\">cơ hội nghìn năm có một</span><br/>there is such an opportunity once in a thousand years; once in a lifetime</li></ul><ul class=\"list2\"><li><span class=\"example-original\">chúng tôi chỉ có ba người tất cả</span><br/>there are only three of us in all</li></ul><ul class=\"list2\"><li><span class=\"example-original\">lá có màu xanh</span><br/>leaves are green</li></ul><ul class=\"list2\"><li><span class=\"example-original\">có tuổi</span><br/>to be advanced in years</li></ul></li></ul>]"
      ]
     },
     "execution_count": 12,
     "metadata": {},
     "output_type": "execute_result"
    }
   ],
   "source": [
    "containers = soup.findAll(\"ul\", class_= \"list1\")[0:len(pos)]\n",
    "containers"
   ]
  },
  {
   "cell_type": "code",
   "execution_count": 13,
   "metadata": {},
   "outputs": [
    {
     "data": {
      "text/plain": [
       "['To be']"
      ]
     },
     "execution_count": 13,
     "metadata": {},
     "output_type": "execute_result"
    }
   ],
   "source": [
    "meanings = [item.find('b').string for item in containers[0:len(pos)]] #word translation\n",
    "meanings"
   ]
  },
  {
   "cell_type": "code",
   "execution_count": 14,
   "metadata": {},
   "outputs": [
    {
     "data": {
      "text/plain": [
       "'there is such an opportunity once in a thousand years; once in a lifetime'"
      ]
     },
     "execution_count": 14,
     "metadata": {},
     "output_type": "execute_result"
    }
   ],
   "source": [
    "examples = containers[0].findAll(\"ul\", class_= \"list2\")\n",
    "temp = str(examples[1].find(\"li\"))\n",
    "temp[temp.find(\"<br/>\")+5:-5]"
   ]
  },
  {
   "cell_type": "code",
   "execution_count": 15,
   "metadata": {},
   "outputs": [],
   "source": [
    "dictionary = {}"
   ]
  },
  {
   "cell_type": "code",
   "execution_count": 16,
   "metadata": {},
   "outputs": [
    {
     "name": "stdout",
     "output_type": "stream",
     "text": [
      "--- 35.79178166389465 seconds ---\n"
     ]
    }
   ],
   "source": [
    "start_time = time.time()\n",
    "for word in wordList:\n",
    "    dictionary[word] = findTranslation(word)\n",
    "    time.sleep(1) #wait for 1 sec between each query\n",
    "print(\"--- %s seconds ---\" % (time.time() - start_time))"
   ]
  },
  {
   "cell_type": "code",
   "execution_count": 17,
   "metadata": {},
   "outputs": [
    {
     "data": {
      "text/plain": [
       "{'một': {1: {'translation': ['one'],\n",
       "   'POS': '',\n",
       "   'examples': {'nums': 3,\n",
       "    'context 1': 'từng cái (người) một',\n",
       "    'usage 1': 'one by one. a; an',\n",
       "    'context 2': 'một ngày',\n",
       "    'usage 2': 'a day',\n",
       "    'context 3': 'một bên',\n",
       "    'usage 3': 'an one hand'}},\n",
       "  'nums': 1},\n",
       " 'và': {1: {'translation': ['and'], 'POS': 'conj', 'examples': {'nums': 0}},\n",
       "  'nums': 1},\n",
       " 'của': {1: {'translation': ['property', ' belongings', ' given kind of food'],\n",
       "   'POS': 'noun',\n",
       "   'examples': {'nums': 1,\n",
       "    'context 1': 'bảo vệ của công',\n",
       "    'usage 1': 'to protect public property'}},\n",
       "  2: {'translation': ['of', ' belong to', ' from'],\n",
       "   'POS': 'conj',\n",
       "   'examples': {'nums': 1,\n",
       "    'context 1': 'cô ta là bạn của tôi',\n",
       "    'usage 1': 'A girl friend of mine'}},\n",
       "  'nums': 2},\n",
       " 'là': {1: {'translation': ['fine silk'],\n",
       "   'POS': 'noun',\n",
       "   'examples': {'nums': 0}},\n",
       "  2: {'translation': ['to bẹ'],\n",
       "   'POS': 'verb',\n",
       "   'examples': {'nums': 1,\n",
       "    'context 1': 'thì giờ là tiền bạc',\n",
       "    'usage 1': 'Time is money'}},\n",
       "  3: {'translation': ['then'],\n",
       "   'POS': 'conj',\n",
       "   'examples': {'nums': 2,\n",
       "    'context 1': 'cảm thán.',\n",
       "    'usage 1': 'how',\n",
       "    'context 2': 'đẹp đẹp là!',\n",
       "    'usage 2': 'how beautiful!'}},\n",
       "  4: {'translation': ['to press iron'],\n",
       "   'POS': 'verb',\n",
       "   'examples': {'nums': 1, 'context 1': 'bàn là', 'usage 1': 'an iron'}},\n",
       "  'nums': 4},\n",
       " 'có': {1: {'translation': ['To be'],\n",
       "   'POS': 'verb',\n",
       "   'examples': {'nums': 5,\n",
       "    'context 1': 'có ai hỏi, bảo tôi đi vắng',\n",
       "    'usage 1': 'if there is anyone asking for me, tell him I am not at home',\n",
       "    'context 2': 'cơ hội nghìn năm có một',\n",
       "    'usage 2': 'there is such an opportunity once in a thousand years; once in a lifetime',\n",
       "    'context 3': 'chúng tôi chỉ có ba người tất cả',\n",
       "    'usage 3': 'there are only three of us in all',\n",
       "    'context 4': 'lá có màu xanh',\n",
       "    'usage 4': 'leaves are green',\n",
       "    'context 5': 'có tuổi',\n",
       "    'usage 5': 'to be advanced in years'}},\n",
       "  2: {'translation': ['To have', ' to own'],\n",
       "   'POS': 'verb',\n",
       "   'examples': {'nums': 2,\n",
       "    'context 1': 'người cày có ruộng',\n",
       "    'usage 1': 'the tillet owns his own land',\n",
       "    'context 2': 'công dân có quyền bầu cử ứng cử',\n",
       "    'usage 2': ''}},\n",
       "  'nums': 2},\n",
       " 'không': {1: {'translation': ['not', ' nothing', ' without'],\n",
       "   'POS': '',\n",
       "   'examples': {'nums': 3,\n",
       "    'context 1': 'anh có thấy nó không? Tôi trả lời không',\n",
       "    'usage 1': 'Have you seen him? My answer is no empty',\n",
       "    'context 2': 'tay không',\n",
       "    'usage 2': 'empty handed bare',\n",
       "    'context 3': 'chân không',\n",
       "    'usage 3': 'bare legs'}},\n",
       "  2: {'translation': ['air'],\n",
       "   'POS': 'noun',\n",
       "   'examples': {'nums': 1,\n",
       "    'context 1': 'bay lượn trên không',\n",
       "    'usage 1': 'to float about in the air'}},\n",
       "  'nums': 2},\n",
       " 'tôi': {1: {'translation': ['subject servant self'],\n",
       "   'POS': 'noun',\n",
       "   'examples': {'nums': 0}},\n",
       "  2: {'translation': ['I', ' me to temper', ' to slake'],\n",
       "   'POS': 'verb',\n",
       "   'examples': {'nums': 0}},\n",
       "  'nums': 2},\n",
       " 'người': {1: {'translation': ['man', ' person', ' people', ' individual'],\n",
       "   'POS': 'noun',\n",
       "   'examples': {'nums': 1, 'context 1': 'mọi người', 'usage 1': 'every man'}},\n",
       "  'nums': 1},\n",
       " 'những': {1: {'translation': ['Certain number of', ' some'],\n",
       "   'POS': '',\n",
       "   'examples': {'nums': 1,\n",
       "    'context 1': 'Có những nhận thức sai lầm',\n",
       "    'usage 1': 'There are a certain number of wrong notions'}},\n",
       "  2: {'translation': ['As much as', ' as many as'],\n",
       "   'POS': '',\n",
       "   'examples': {'nums': 1,\n",
       "    'context 1': 'Nó ăn những tám bát cơm một bữa',\n",
       "    'usage 1': 'He eats as many as eight bowlfuls of rice at a meal.'}},\n",
       "  3: {'translation': ['(chỉ số nhiều', ' không dịch)'],\n",
       "   'POS': '',\n",
       "   'examples': {'nums': 2,\n",
       "    'context 1': 'Những người bạn của tôi',\n",
       "    'usage 1': 'My friends',\n",
       "    'context 2': 'Tất cả những người khác',\n",
       "    'usage 2': 'All the others'}},\n",
       "  4: {'translation': ['Nothing but'],\n",
       "   'POS': '',\n",
       "   'examples': {'nums': 1,\n",
       "    'context 1': 'Những sách là sách',\n",
       "    'usage 1': 'Nothing but books'}},\n",
       "  5: {'translation': ['Frequently', ' usually'],\n",
       "   'POS': '',\n",
       "   'examples': {'nums': 1,\n",
       "    'context 1': 'Những mong gặp bạn',\n",
       "    'usage 1': \"To hope frequently to see one's friend\"}},\n",
       "  'nums': 5},\n",
       " 'đã': {1: {'translation': ['already'],\n",
       "   'POS': 'adv',\n",
       "   'examples': {'nums': 2,\n",
       "    'context 1': 'đã trưa rồi',\n",
       "    'usage 1': \"It's already late first\",\n",
       "    'context 2': 'chúng ta hãy học đã',\n",
       "    'usage 2': \"Let's learn first\"}},\n",
       "  2: {'translation': ['As', ' since'], 'POS': 'adv', 'examples': {'nums': 0}},\n",
       "  'nums': 2},\n",
       " 'ông': {1: {'translation': ['grandfather'],\n",
       "   'POS': 'noun',\n",
       "   'examples': {'nums': 2,\n",
       "    'context 1': 'ông nội',\n",
       "    'usage 1': 'paternal grandfather. gentleman',\n",
       "    'context 2': 'mời ông ấy vào',\n",
       "    'usage 2': 'Ask the gentleman to come in. you mister; you sir'}},\n",
       "  'nums': 1},\n",
       " 'cho': {1: {'translation': ['To give'],\n",
       "   'POS': 'verb',\n",
       "   'examples': {'nums': 7,\n",
       "    'context 1': 'anh ta cho tôi chiếc đồng hồ',\n",
       "    'usage 1': 'he gave me a watch',\n",
       "    'context 2': 'cho quà',\n",
       "    'usage 2': 'to give presents',\n",
       "    'context 3': 'cho không, không bán',\n",
       "    'usage 3': 'to give (something) free of charge, not to sell it',\n",
       "    'context 4': 'thầy thuốc cho đơn',\n",
       "    'usage 4': 'doctors give prescriptions',\n",
       "    'context 5': 'bài này đáng cho năm điểm',\n",
       "    'usage 5': 'this task deserves to be given mark 5',\n",
       "    'context 6': 'cho anh ta một tuần lễ để chuẩn bị',\n",
       "    'usage 6': 'he was given a week to prepare',\n",
       "    'context 7': 'kinh nghiệm lịch sử cho ta nhiều bài học quý',\n",
       "    'usage 7': 'history has given us many valuable lessons'}},\n",
       "  'nums': 1},\n",
       " 'như': {1: {'translation': ['as'],\n",
       "   'POS': '',\n",
       "   'examples': {'nums': 1,\n",
       "    'context 1': 'làm như tôi',\n",
       "    'usage 1': 'Do as I do'}},\n",
       "  2: {'translation': ['like'],\n",
       "   'POS': '',\n",
       "   'examples': {'nums': 1,\n",
       "    'context 1': 'tôi cũng nghĩ như anh',\n",
       "    'usage 1': 'I think like you'}},\n",
       "  3: {'translation': ['alike', ' similar tọ'],\n",
       "   'POS': '',\n",
       "   'examples': {'nums': 1,\n",
       "    'context 1': 'trường hợp anh giống như trường hợp tôi',\n",
       "    'usage 1': 'Your case is similar to mine'}},\n",
       "  'nums': 3},\n",
       " 'ta': {1: {'translation': ['I', ' me', ' my'],\n",
       "   'POS': 'pronoun',\n",
       "   'examples': {'nums': 2,\n",
       "    'context 1': 'ta cũng nghĩ thế',\n",
       "    'usage 1': 'I think so, too. we, our, us',\n",
       "    'context 2': 'ta đi thôi',\n",
       "    'usage 2': \"let's go\"}},\n",
       "  'nums': 1},\n",
       " 'trong': {1: {'translation': ['clear', ' pure'],\n",
       "   'POS': 'adj',\n",
       "   'examples': {'nums': 0}},\n",
       "  2: {'translation': ['within', ' in for'],\n",
       "   'POS': 'conj',\n",
       "   'examples': {'nums': 0}},\n",
       "  3: {'translation': ['internal', ' interior'],\n",
       "   'POS': 'adj',\n",
       "   'examples': {'nums': 0}},\n",
       "  'nums': 3}}"
      ]
     },
     "execution_count": 17,
     "metadata": {},
     "output_type": "execute_result"
    }
   ],
   "source": [
    "dictionary"
   ]
  },
  {
   "cell_type": "code",
   "execution_count": 18,
   "metadata": {},
   "outputs": [],
   "source": [
    "with open('vdict VI-EN.json', 'w') as outfile:\n",
    "    json.dump(dictionary, outfile)"
   ]
  },
  {
   "cell_type": "code",
   "execution_count": 19,
   "metadata": {},
   "outputs": [
    {
     "data": {
      "text/plain": [
       "{1: {'translation': ['To be'],\n",
       "  'POS': 'verb',\n",
       "  'examples': {'nums': 5,\n",
       "   'context 1': 'có ai hỏi, bảo tôi đi vắng',\n",
       "   'usage 1': 'if there is anyone asking for me, tell him I am not at home',\n",
       "   'context 2': 'cơ hội nghìn năm có một',\n",
       "   'usage 2': 'there is such an opportunity once in a thousand years; once in a lifetime',\n",
       "   'context 3': 'chúng tôi chỉ có ba người tất cả',\n",
       "   'usage 3': 'there are only three of us in all',\n",
       "   'context 4': 'lá có màu xanh',\n",
       "   'usage 4': 'leaves are green',\n",
       "   'context 5': 'có tuổi',\n",
       "   'usage 5': 'to be advanced in years'}},\n",
       " 2: {'translation': ['To have', ' to own'],\n",
       "  'POS': 'verb',\n",
       "  'examples': {'nums': 2,\n",
       "   'context 1': 'người cày có ruộng',\n",
       "   'usage 1': 'the tillet owns his own land',\n",
       "   'context 2': 'công dân có quyền bầu cử ứng cử',\n",
       "   'usage 2': ''}},\n",
       " 'nums': 2}"
      ]
     },
     "execution_count": 19,
     "metadata": {},
     "output_type": "execute_result"
    }
   ],
   "source": [
    "findTranslation(\"có\")"
   ]
  },
  {
   "cell_type": "code",
   "execution_count": 20,
   "metadata": {},
   "outputs": [
    {
     "data": {
      "text/plain": [
       "{1: {'translation': ['fine silk'], 'POS': 'noun', 'examples': {'nums': 0}},\n",
       " 2: {'translation': ['to bẹ'],\n",
       "  'POS': 'verb',\n",
       "  'examples': {'nums': 1,\n",
       "   'context 1': 'thì giờ là tiền bạc',\n",
       "   'usage 1': 'Time is money'}},\n",
       " 3: {'translation': ['then'],\n",
       "  'POS': 'conj',\n",
       "  'examples': {'nums': 2,\n",
       "   'context 1': 'cảm thán.',\n",
       "   'usage 1': 'how',\n",
       "   'context 2': 'đẹp đẹp là!',\n",
       "   'usage 2': 'how beautiful!'}},\n",
       " 4: {'translation': ['to press iron'],\n",
       "  'POS': 'verb',\n",
       "  'examples': {'nums': 1, 'context 1': 'bàn là', 'usage 1': 'an iron'}},\n",
       " 'nums': 4}"
      ]
     },
     "execution_count": 20,
     "metadata": {},
     "output_type": "execute_result"
    }
   ],
   "source": [
    "findTranslation(\"là\")"
   ]
  }
 ],
 "metadata": {
  "kernelspec": {
   "display_name": "Python 3",
   "language": "python",
   "name": "python3"
  },
  "language_info": {
   "codemirror_mode": {
    "name": "ipython",
    "version": 3
   },
   "file_extension": ".py",
   "mimetype": "text/x-python",
   "name": "python",
   "nbconvert_exporter": "python",
   "pygments_lexer": "ipython3",
   "version": "3.7.7"
  }
 },
 "nbformat": 4,
 "nbformat_minor": 4
}
