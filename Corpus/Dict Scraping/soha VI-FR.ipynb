{
 "cells": [
  {
   "cell_type": "code",
   "execution_count": 1,
   "metadata": {},
   "outputs": [],
   "source": [
    "import urllib.request \n",
    "from urllib.parse import quote \n",
    "from bs4 import BeautifulSoup\n",
    "import json\n",
    "import re\n",
    "import time"
   ]
  },
  {
   "cell_type": "code",
   "execution_count": 2,
   "metadata": {},
   "outputs": [],
   "source": [
    "with open('./wordList', 'r') as infile:\n",
    "    wordList = infile.read()"
   ]
  },
  {
   "cell_type": "code",
   "execution_count": 3,
   "metadata": {},
   "outputs": [],
   "source": [
    "wordList = wordList.split()"
   ]
  },
  {
   "cell_type": "code",
   "execution_count": 4,
   "metadata": {},
   "outputs": [
    {
     "data": {
      "text/plain": [
       "['một',\n",
       " 'và',\n",
       " 'của',\n",
       " 'là',\n",
       " 'có',\n",
       " 'không',\n",
       " 'tôi',\n",
       " 'người',\n",
       " 'những',\n",
       " 'đã',\n",
       " 'ông',\n",
       " 'cho',\n",
       " 'như',\n",
       " 'ta',\n",
       " 'trong']"
      ]
     },
     "execution_count": 4,
     "metadata": {},
     "output_type": "execute_result"
    }
   ],
   "source": [
    "wordList"
   ]
  },
  {
   "cell_type": "code",
   "execution_count": 5,
   "metadata": {},
   "outputs": [],
   "source": [
    "#The link format for soha Viet-Fran is: http://tratu.soha.vn/dict/vi-fr/C%C3%B3"
   ]
  },
  {
   "cell_type": "code",
   "execution_count": 6,
   "metadata": {},
   "outputs": [],
   "source": [
    "url = \"http://tratu.soha.vn/dict/vn_fr/\" + quote(\"như\") #resolving the IRI issue\n",
    "\n",
    "try:\n",
    "    source = urllib.request.urlopen(url)\n",
    "except:\n",
    "    print( \"Link broken\")\n",
    "soup = BeautifulSoup(source, 'lxml')"
   ]
  },
  {
   "cell_type": "code",
   "execution_count": 7,
   "metadata": {},
   "outputs": [],
   "source": [
    "groups = soup.findAll(\"div\", class_ = \"section-h3\") #soha groups their translations by POS"
   ]
  },
  {
   "cell_type": "code",
   "execution_count": 8,
   "metadata": {},
   "outputs": [],
   "source": [
    "containers = soup.findAll(\"div\", class_ = \"section-h5\")"
   ]
  },
  {
   "cell_type": "code",
   "execution_count": 9,
   "metadata": {},
   "outputs": [
    {
     "data": {
      "text/plain": [
       "'Comme'"
      ]
     },
     "execution_count": 9,
     "metadata": {},
     "output_type": "execute_result"
    }
   ],
   "source": [
    "containers[0].find(\"h5\").find(\"span\").contents[0]"
   ]
  },
  {
   "cell_type": "code",
   "execution_count": 10,
   "metadata": {},
   "outputs": [
    {
     "data": {
      "text/plain": [
       "['Comme']"
      ]
     },
     "execution_count": 10,
     "metadata": {},
     "output_type": "execute_result"
    }
   ],
   "source": [
    "containers[0].find(\"h5\").find(\"span\").contents"
   ]
  },
  {
   "cell_type": "code",
   "execution_count": 11,
   "metadata": {},
   "outputs": [],
   "source": [
    "#detect whether a tag contains a link, if a link is present, the tag contains a context\n",
    "def hasLink(tag):\n",
    "    try:\n",
    "        subTags = tag.findAll('a')\n",
    "    except:\n",
    "        return False\n",
    "    for subTag in subTags:\n",
    "        if (subTag.get('href')): #found a link\n",
    "            return True\n",
    "    return False"
   ]
  },
  {
   "cell_type": "code",
   "execution_count": 12,
   "metadata": {},
   "outputs": [
    {
     "data": {
      "text/plain": [
       "True"
      ]
     },
     "execution_count": 12,
     "metadata": {},
     "output_type": "execute_result"
    }
   ],
   "source": [
    "hasLink(containers[0].find(\"dl\").find(\"dd\").find(\"dl\").findAll(\"dd\")[0]) "
   ]
  },
  {
   "cell_type": "code",
   "execution_count": 13,
   "metadata": {},
   "outputs": [],
   "source": [
    "def resolveItalic(parts): #french words use italic to mark an use of \"'\"\n",
    "    parts = [str(part) for part in parts]\n",
    "    if (len(parts) == 1): #nothing special here, just return the string\n",
    "        return [item.strip() for item in re.split('[.,;]', str(parts[0]))]\n",
    "    parts = [part.replace(\"<i>\", \"'\").replace(\"</i>\", \"'\") for part in parts]\n",
    "    if (parts[-1] == '\\n'): #this is an usage, ignore the last part\n",
    "        return [item.strip() for item in re.split('[.,;]', \"\".join(parts[:-1]))]\n",
    "    #this is a translation\n",
    "    return [item.strip() for item in re.split('[.,;]', \"\".join(parts))]"
   ]
  },
  {
   "cell_type": "code",
   "execution_count": 14,
   "metadata": {},
   "outputs": [
    {
     "data": {
      "text/plain": [
       "['Comme']"
      ]
     },
     "execution_count": 14,
     "metadata": {},
     "output_type": "execute_result"
    }
   ],
   "source": [
    "temp = containers[0].find(\"h5\").find(\"span\").contents\n",
    "temp"
   ]
  },
  {
   "cell_type": "code",
   "execution_count": 15,
   "metadata": {},
   "outputs": [
    {
     "data": {
      "text/plain": [
       "['Comme']"
      ]
     },
     "execution_count": 15,
     "metadata": {},
     "output_type": "execute_result"
    }
   ],
   "source": [
    "resolveItalic(temp)"
   ]
  },
  {
   "cell_type": "code",
   "execution_count": 16,
   "metadata": {},
   "outputs": [
    {
     "data": {
      "text/plain": [
       "['ils se ressemblent comme deux gouttes d', <i>eau</i>, '\\n']"
      ]
     },
     "execution_count": 16,
     "metadata": {},
     "output_type": "execute_result"
    }
   ],
   "source": [
    "temp = containers[0].find(\"dl\").find(\"dd\").find(\"dl\").findAll(\"dd\")[1].contents\n",
    "temp"
   ]
  },
  {
   "cell_type": "code",
   "execution_count": 17,
   "metadata": {},
   "outputs": [
    {
     "data": {
      "text/plain": [
       "[\"ils se ressemblent comme deux gouttes d'eau'\"]"
      ]
     },
     "execution_count": 17,
     "metadata": {},
     "output_type": "execute_result"
    }
   ],
   "source": [
    "resolveItalic(temp)"
   ]
  },
  {
   "cell_type": "code",
   "execution_count": 18,
   "metadata": {},
   "outputs": [],
   "source": [
    "def extractContext(tag):\n",
    "    parts = list(tag.children)\n",
    "    parts = filter(lambda x: False if x == ' ' or x == '\\n' else True, parts) #filter all the non-words out\n",
    "    parts = [part.contents[0] for part in parts]\n",
    "    context = \" \".join(parts)\n",
    "    return context"
   ]
  },
  {
   "cell_type": "code",
   "execution_count": 19,
   "metadata": {},
   "outputs": [
    {
     "data": {
      "text/plain": [
       "'Họ giống nhau như đúc'"
      ]
     },
     "execution_count": 19,
     "metadata": {},
     "output_type": "execute_result"
    }
   ],
   "source": [
    "extractContext(containers[0].find(\"dl\").find(\"dd\").find(\"dl\").findAll(\"dd\")[0])"
   ]
  },
  {
   "cell_type": "code",
   "execution_count": 20,
   "metadata": {},
   "outputs": [],
   "source": [
    "def findTranslation(word):\n",
    "    url = \"http://tratu.soha.vn/dict/vn_fr/\" + quote(word) #resolving the IRI issue\n",
    "\n",
    "    try:\n",
    "        source = urllib.request.urlopen(url)\n",
    "    except urllib.HTTPError:\n",
    "        print( \"Link broken\")\n",
    "    soup = BeautifulSoup(source, 'lxml')\n",
    "    \n",
    "    translations = {}\n",
    "    numTrans = 0\n",
    " \n",
    "    containers = soup.findAll(\"div\", class_ = \"section-h5\") #getting all the translations for a word\n",
    "\n",
    "    for trans in containers: #for each translation in this group\n",
    "        temp = {} #temp dict to store each translation of a word\n",
    "\n",
    "        #getting the raw translation\n",
    "        try:\n",
    "            temp['translation'] = resolveItalic(trans.find(\"h5\").find(\"span\").contents)\n",
    "        except:\n",
    "            print(trans.find(\"h5\"))\n",
    "            print(\"Can not get translation for \" + word)\n",
    "\n",
    "        try:\n",
    "            #retrieving the examples and contexts of this translation\n",
    "            clarifications = trans.find(\"dl\").find(\"dd\").find(\"dl\").findAll(\"dd\")\n",
    "            temp2 = {} #another dict to store each examples of a translation\n",
    "            \n",
    "            numContext = 0;\n",
    "            numUsage = 0;\n",
    "            \n",
    "            for item in clarifications:\n",
    "                if (hasLink(item)): #this is a context (context contains hyperlink)\n",
    "                    temp2['context ' + str(numContext+1)] = extractContext(item)\n",
    "                    numContext += 1\n",
    "                else: #this is an usage\n",
    "                    temp2['usage ' + str(numUsage+1)] = resolveItalic(item.contents)\n",
    "                    numUsage += 1\n",
    "            \n",
    "            temp2['nums context'] = numContext\n",
    "            temp2['nums usage'] = numUsage\n",
    "\n",
    "            temp['examples'] = temp2\n",
    "        except:\n",
    "            temp['examples'] = \"N/A\"\n",
    "\n",
    "        translations[numTrans+1] = temp #adding the translation to the dictionary\n",
    "        numTrans += 1\n",
    "            \n",
    "    #storing the number of translations\n",
    "    translations['nums'] = numTrans\n",
    "    return translations        "
   ]
  },
  {
   "cell_type": "code",
   "execution_count": 21,
   "metadata": {},
   "outputs": [
    {
     "data": {
      "text/plain": [
       "{1: {'translation': ['Comme'],\n",
       "  'examples': {'context 1': 'Họ giống nhau như đúc',\n",
       "   'usage 1': [\"ils se ressemblent comme deux gouttes d'eau'\"],\n",
       "   'context 2': 'Như tôi đã nói với anh',\n",
       "   'usage 2': [\"comme je vous l'ai dit'\"],\n",
       "   'context 3': 'Giàu như anh ta',\n",
       "   'usage 3': ['riche comme il est'],\n",
       "   'context 4': 'Như thường lệ',\n",
       "   'usage 4': ['comme de coutume', \"comme d'habitude'\"],\n",
       "   'nums context': 4,\n",
       "   'nums usage': 4}},\n",
       " 2: {'translation': ['Autant que'],\n",
       "  'examples': {'context 1': 'Tôi cũng vui mừng về điều đó như anh',\n",
       "   'usage 1': [\"je m'en réjouis autant que vous'\"],\n",
       "   'nums context': 1,\n",
       "   'nums usage': 1}},\n",
       " 3: {'translation': ['Tel que'],\n",
       "  'examples': {'context 1': 'Gia súc như chó mèo',\n",
       "   'usage 1': ['les animaux domestiques tels que le chien', 'le chat'],\n",
       "   'nums context': 1,\n",
       "   'nums usage': 1}},\n",
       " 4: {'translation': ['Si au cas où'],\n",
       "  'examples': {'context 1': 'Như ông đồng ý tôi sẽ nhường cho ông',\n",
       "   'usage 1': [\"si vous êtes d'accord\", \"je vous le céderai'\"],\n",
       "   'nums context': 1,\n",
       "   'nums usage': 1}},\n",
       " 'nums': 4}"
      ]
     },
     "execution_count": 21,
     "metadata": {},
     "output_type": "execute_result"
    }
   ],
   "source": [
    "findTranslation(\"như\")"
   ]
  },
  {
   "cell_type": "code",
   "execution_count": 22,
   "metadata": {},
   "outputs": [
    {
     "data": {
      "text/plain": [
       "{1: {'translation': ['Serviteur', 'domestique', ''],\n",
       "  'examples': {'context 1': 'Làm tôi người khác',\n",
       "   'usage 1': [\"se faire domestique chez quelqu'un\",\n",
       "    \"être au service de quelqu'un\",\n",
       "    ''],\n",
       "   'nums context': 1,\n",
       "   'nums usage': 1}},\n",
       " 2: {'translation': ['Sujet', ''],\n",
       "  'examples': {'context 1': 'Vua và tôi',\n",
       "   'usage 1': ['le roi et ses sujets', ''],\n",
       "   'nums context': 1,\n",
       "   'nums usage': 1}},\n",
       " 3: {'translation': ['Je', 'moi', 'memon', 'ma', 'mes', ''],\n",
       "  'examples': {'context 1': 'Em tôi tuổi tôi',\n",
       "   'usage 1': ['', ''],\n",
       "   'nums context': 1,\n",
       "   'nums usage': 1}},\n",
       " 4: {'translation': ['Tremper'],\n",
       "  'examples': {'context 1': 'Tôi lưỡi gươm',\n",
       "   'usage 1': [\"��tremper une lame d'épée\", ''],\n",
       "   'nums context': 1,\n",
       "   'nums usage': 1}},\n",
       " 5: {'translation': ['Éteindre'],\n",
       "  'examples': {'context 1': 'Tôi vôi',\n",
       "   'usage 1': ['��éteindre de la chaux', ''],\n",
       "   'context 2': 'Cái tôi',\n",
       "   'usage 2': ['(triết học) ego'],\n",
       "   'nums context': 2,\n",
       "   'nums usage': 2}},\n",
       " 'nums': 5}"
      ]
     },
     "execution_count": 22,
     "metadata": {},
     "output_type": "execute_result"
    }
   ],
   "source": [
    "findTranslation(\"tôi\")"
   ]
  },
  {
   "cell_type": "code",
   "execution_count": 26,
   "metadata": {},
   "outputs": [
    {
     "data": {
      "text/plain": [
       "{1: {'translation': ['Déjà'], 'examples': 'N/A'},\n",
       " 2: {'translation': ['Non seulement'], 'examples': 'N/A'},\n",
       " 3: {'translation': ['Voilà'], 'examples': 'N/A'},\n",
       " 4: {'translation': ['Si'], 'examples': 'N/A'},\n",
       " 5: {'translation': ['À satiété', \"jusqu'à satiété'\"], 'examples': 'N/A'},\n",
       " 6: {'translation': ['(ít dùng) guérir'], 'examples': 'N/A'},\n",
       " 'nums': 6}"
      ]
     },
     "execution_count": 26,
     "metadata": {},
     "output_type": "execute_result"
    }
   ],
   "source": [
    "findTranslation(\"đã\")"
   ]
  },
  {
   "cell_type": "code",
   "execution_count": 23,
   "metadata": {},
   "outputs": [
    {
     "name": "stdout",
     "output_type": "stream",
     "text": [
      "--- 22.962656259536743 seconds ---\n"
     ]
    }
   ],
   "source": [
    "dictionary = {}\n",
    "start_time = time.time()\n",
    "for word in wordList:\n",
    "    dictionary[word] = findTranslation(word)\n",
    "    time.sleep(1) #wait for 1 sec between each query\n",
    "print(\"--- %s seconds ---\" % (time.time() - start_time))"
   ]
  },
  {
   "cell_type": "code",
   "execution_count": 24,
   "metadata": {},
   "outputs": [
    {
     "data": {
      "text/plain": [
       "{'một': {1: {'translation': ['Un'],\n",
       "   'examples': {'context 1': 'Một người',\n",
       "    'usage 1': ['un homme', ''],\n",
       "    'context 2': 'Một nhà',\n",
       "    'usage 2': ['une maison', ''],\n",
       "    'context 3': 'Nước Việt Nam là một',\n",
       "    'usage 3': ['le Viêtnam est un'],\n",
       "    'nums context': 3,\n",
       "    'nums usage': 3}},\n",
       "  2: {'translation': ['Unique'],\n",
       "   'examples': {'context 1': 'Con một',\n",
       "    'usage 1': ['fils unique', ''],\n",
       "    'context 2': 'Một màu',\n",
       "    'usage 2': [\"d'une seule couleur\", 'unicolore'],\n",
       "    'nums context': 2,\n",
       "    'nums usage': 2}},\n",
       "  3: {'translation': ['Pour une seule personne', ''],\n",
       "   'examples': {'context 1': 'Màn dành cho một người ngủ',\n",
       "    'usage 1': ['moustiquaire pour une seule personne'],\n",
       "    'context 2': 'chỉ là một',\n",
       "    'usage 2': [\"c'est tout un\", ''],\n",
       "    'context 3': 'một chín một mười',\n",
       "    'usage 3': ['équivalent'],\n",
       "    'context 4': 'một chốn đôi nơi',\n",
       "    'usage 4': ['ménage à deux foyers', 'famille à deux foyers', ''],\n",
       "    'context 5': 'một chữ cắn đôi cũng không biết',\n",
       "    'usage 5': ['illettré', ''],\n",
       "    'context 6': 'một cổ hai tròng',\n",
       "    'usage 6': ['deux cordes sur le cou', 'joug double', ''],\n",
       "    'context 7': 'một công đôi việc',\n",
       "    'usage 7': [\"faire d'une pierre deux coups\", ''],\n",
       "    'context 8': 'một đối một',\n",
       "    'usage 8': ['un contre un', ''],\n",
       "    'context 9': 'một đồng một cốt',\n",
       "    'usage 9': ['du même acabit', 'chou vert et vert chou', ''],\n",
       "    'context 10': 'một là',\n",
       "    'usage 10': ['premièrement', 'primo', ''],\n",
       "    'context 11': 'một lòng một dạ',\n",
       "    'usage 11': ['de tout coeur', ''],\n",
       "    'context 12': 'một miếng khi đói bằng một gói khi no',\n",
       "    'usage 12': ['au pauvre un oeuf vaut un boeuf', ''],\n",
       "    'context 13': 'một nắng hai sương',\n",
       "    'usage 13': ['peiner jour après jour (dans les travaux agricoles)', ''],\n",
       "    'context 14': 'một sớm một chiều',\n",
       "    'usage 14': ['(utilisé en tournure négative) promptement', 'bientôt'],\n",
       "    'context 15': 'Không phải một sớm một chiều mà xong',\n",
       "    'usage 15': ['��ce ne sera pas bientôt fait', ''],\n",
       "    'context 16': 'một trời một vực',\n",
       "    'usage 16': [\"très différents (l'un de l'autre)\"],\n",
       "    'nums context': 16,\n",
       "    'nums usage': 16}},\n",
       "  'nums': 3},\n",
       " 'và': {1: {'translation': ['Pousser les aliments du bol dans la bouche avec des baguettes'],\n",
       "   'examples': {'context 1': 'Và cơm',\n",
       "    'usage 1': [\"pousser le riz d'un bol dans la bouche avec des baguettes\"],\n",
       "    'nums context': 1,\n",
       "    'nums usage': 1}},\n",
       "  2: {'translation': ['Et'],\n",
       "   'examples': {'context 1': 'Anh và tôi',\n",
       "    'usage 1': ['vous et moi'],\n",
       "    'context 2': 'Anh đi và tôi ở lại',\n",
       "    'usage 2': ['vous partez et moi je reste'],\n",
       "    'context 3': 'Tôi sẽ làm việc đó và ngày mai sẽ làm',\n",
       "    'usage 3': ['je ferai cela et le ferai demain'],\n",
       "    'context 4': 'Và thế là hết',\n",
       "    'usage 4': [\"et c'est tout\"],\n",
       "    'nums context': 4,\n",
       "    'nums usage': 4}},\n",
       "  3: {'translation': ['(từ cũ', 'nghĩa cũ) quelques'],\n",
       "   'examples': {'context 1': 'Một vài hôm nữa',\n",
       "    'usage 1': ['dans quelques jours'],\n",
       "    'nums context': 1,\n",
       "    'nums usage': 1}},\n",
       "  'nums': 3},\n",
       " 'của': {1: {'translation': ['Bien',\n",
       "    'fortune',\n",
       "    'richesses',\n",
       "    'ressources',\n",
       "    'avoir'],\n",
       "   'examples': 'N/A'},\n",
       "  2: {'translation': ['Aliment'], 'examples': 'N/A'},\n",
       "  3: {'translation': ['À', 'de', 'appartenant à', 'se rapportant à'],\n",
       "   'examples': 'N/A'},\n",
       "  'nums': 3},\n",
       " 'là': {1: {'translation': ['Repasser'],\n",
       "   'examples': {'context 1': 'Bàn là',\n",
       "    'usage 1': ['fer à repasser'],\n",
       "    'nums context': 1,\n",
       "    'nums usage': 1}},\n",
       "  2: {'translation': ['Raser'],\n",
       "   'examples': {'context 1': 'Máy bay là mặt đất',\n",
       "    'usage 1': ['avion qui rase le sol'],\n",
       "    'nums context': 1,\n",
       "    'nums usage': 1}},\n",
       "  3: {'translation': ['Être', 'constituer'],\n",
       "   'examples': {'context 1': 'Chúng ta là người Việt Nam',\n",
       "    'usage 1': ['nous sommes Vietnamiens'],\n",
       "    'context 2': 'Hành động đó là một tội',\n",
       "    'usage 2': ['cette action est un délit'],\n",
       "    'nums context': 2,\n",
       "    'nums usage': 2}},\n",
       "  4: {'translation': ['Égaler', 'faire'],\n",
       "   'examples': {'context 1': 'Hai với hai là bốn',\n",
       "    'usage 1': ['deux et deux font quatre'],\n",
       "    'nums context': 1,\n",
       "    'nums usage': 1}},\n",
       "  5: {'translation': ['Que', 'comme', 'en tant que'], 'examples': 'N/A'},\n",
       "  6: {'translation': ['Pour'],\n",
       "   'examples': {'context 1': 'Được coi là nhà bác học',\n",
       "    'usage 1': ['passer pour savant'],\n",
       "    'nums context': 1,\n",
       "    'nums usage': 1}},\n",
       "  7: {'translation': ['(marquant la conséquence', 'non traduit)'],\n",
       "   'examples': {'context 1': 'Nó đã nói là nó làm',\n",
       "    'usage 1': [\"quand il l'a dit\", 'il le fait'],\n",
       "    'nums context': 1,\n",
       "    'nums usage': 1}},\n",
       "  'nums': 7},\n",
       " 'có': {1: {'translation': ['Avoir', 'posséder'],\n",
       "   'examples': {'context 1': 'Tôi có nói câu đó',\n",
       "    'usage 1': [\"j'ai dit cette phrase\"],\n",
       "    'context 2': 'Có tiền',\n",
       "    'usage 2': [\"avoir de l'argent\"],\n",
       "    'context 3': 'Có một cái nhà',\n",
       "    'usage 3': ['posséder une maison'],\n",
       "    'nums context': 3,\n",
       "    'nums usage': 3}},\n",
       "  2: {'translation': ['Exister', 'se trouver'],\n",
       "   'examples': {'context 1': 'Cái tục đó còn đó',\n",
       "    'usage 1': ['cet usage existe encore'],\n",
       "    'context 2': 'Loài chim đó không có ở Việt Nam',\n",
       "    'usage 2': [\"cette espèce d'oiseau n'existe pas au Viet-Nam\"],\n",
       "    'context 3': 'Tên anh không có trong danh sách',\n",
       "    'usage 3': ['ton nom ne se trouve pas sur la liste'],\n",
       "    'nums context': 3,\n",
       "    'nums usage': 3}},\n",
       "  3: {'translation': ['Disposer de'],\n",
       "   'examples': {'context 1': 'ông ấy có một cái xe',\n",
       "    'usage 1': [\"il dispose d'une voiture\"],\n",
       "    'nums context': 1,\n",
       "    'nums usage': 1}},\n",
       "  4: {'translation': ['Être présent'],\n",
       "   'examples': {'context 1': 'Một chất khí có rất ít trong không khí',\n",
       "    'usage 1': [\"un gaz qui est présent dans l'air en proportion infinitésimale\"],\n",
       "    'nums context': 1,\n",
       "    'nums usage': 1}},\n",
       "  5: {'translation': ['Il y a', 'il est'], 'examples': 'N/A'},\n",
       "  6: {'translation': ['Oui',\n",
       "    'si (terme affirmatif pouvant ne pas se traduire)'],\n",
       "   'examples': 'N/A'},\n",
       "  7: {'translation': ['(terme de dissuasion non traduit)'],\n",
       "   'examples': {'context 1': 'Anh đừng có đi',\n",
       "    'usage 1': [\"n'y allez pas\"],\n",
       "    'context 2': 'Mày đừng có nói dối',\n",
       "    'usage 2': ['ne mens pas'],\n",
       "    'nums context': 2,\n",
       "    'nums usage': 2}},\n",
       "  8: {'translation': ['(terme conditionnel se traduisant différemment suivant les contextes)'],\n",
       "   'examples': {'context 1': 'Có đi mới đến',\n",
       "    'usage 1': [\"on ne peut arriver qu'à la condition d'être parti\"],\n",
       "    'context 2': 'Có cứng mới đứng đầu gió',\n",
       "    'usage 2': [\"seule l'énergie vous permettrait de résister à l'adversité\"],\n",
       "    'nums context': 2,\n",
       "    'nums usage': 2}},\n",
       "  9: {'translation': ['Présent', 'me voici'],\n",
       "   'examples': {'context 1': 'Thiếu uý Hai - Có mặt',\n",
       "    'usage 1': ['le sous-lieutenant Hai - Présent\\xa0!'],\n",
       "    'nums context': 1,\n",
       "    'nums usage': 1}},\n",
       "  10: {'translation': ['Même si'], 'examples': 'N/A'},\n",
       "  'nums': 10},\n",
       " 'không': {1: {'translation': ['Air'], 'examples': 'N/A'},\n",
       "  2: {'translation': ['Zéro'], 'examples': 'N/A'},\n",
       "  3: {'translation': ['Néant'], 'examples': 'N/A'},\n",
       "  4: {'translation': ['Vide'], 'examples': 'N/A'},\n",
       "  5: {'translation': ['Ne', '', '', 'pas', 'non', 'sans'], 'examples': 'N/A'},\n",
       "  'nums': 5},\n",
       " 'tôi': {1: {'translation': ['Serviteur', 'domestique', ''],\n",
       "   'examples': {'context 1': 'Làm tôi người khác',\n",
       "    'usage 1': [\"se faire domestique chez quelqu'un\",\n",
       "     \"être au service de quelqu'un\",\n",
       "     ''],\n",
       "    'nums context': 1,\n",
       "    'nums usage': 1}},\n",
       "  2: {'translation': ['Sujet', ''],\n",
       "   'examples': {'context 1': 'Vua và tôi',\n",
       "    'usage 1': ['le roi et ses sujets', ''],\n",
       "    'nums context': 1,\n",
       "    'nums usage': 1}},\n",
       "  3: {'translation': ['Je', 'moi', 'memon', 'ma', 'mes', ''],\n",
       "   'examples': {'context 1': 'Em tôi tuổi tôi',\n",
       "    'usage 1': ['', ''],\n",
       "    'nums context': 1,\n",
       "    'nums usage': 1}},\n",
       "  4: {'translation': ['Tremper'],\n",
       "   'examples': {'context 1': 'Tôi lưỡi gươm',\n",
       "    'usage 1': [\"��tremper une lame d'épée\", ''],\n",
       "    'nums context': 1,\n",
       "    'nums usage': 1}},\n",
       "  5: {'translation': ['Éteindre'],\n",
       "   'examples': {'context 1': 'Tôi vôi',\n",
       "    'usage 1': ['��éteindre de la chaux', ''],\n",
       "    'context 2': 'Cái tôi',\n",
       "    'usage 2': ['(triết học) ego'],\n",
       "    'nums context': 2,\n",
       "    'nums usage': 2}},\n",
       "  'nums': 5},\n",
       " 'người': {1: {'translation': ['Personne', 'homme'],\n",
       "   'examples': {'context 1': 'Trong phòng có ba người',\n",
       "    'usage 1': ['il y a trois personnes dans la salle'],\n",
       "    'context 2': 'Xứng danh là người',\n",
       "    'usage 2': [\"être digne du nom d'homme\"],\n",
       "    'nums context': 2,\n",
       "    'nums usage': 2}},\n",
       "  2: {'translation': ['Corps (humain)'],\n",
       "   'examples': {'context 1': 'Người rất nở nang',\n",
       "    'usage 1': ['un corps très bien développé'],\n",
       "    'context 2': 'người đẹp vì lụa',\n",
       "    'usage 2': [\"l'habit fait l'homme\", \"c'est le ton qui fait la chanson\"],\n",
       "    'context 3': 'người nào của ấy',\n",
       "    'usage 3': ['à tout seigneur tout honneur'],\n",
       "    'context 4': 'người năm bảy thứ vật năm bảy loài',\n",
       "    'usage 4': ['il y a fagots et fagots'],\n",
       "    'context 5': 'người trần mắt thịt',\n",
       "    'usage 5': [\"être de chair et d'os\", 'autrui', 'autre'],\n",
       "    'context 6': 'Không thèm muốn của người',\n",
       "    'usage 6': ['lui', 'il (en parlant des personnes vénérables)'],\n",
       "    'context 7': 'Hồ Chủ tịch đến thăm trường ai cũng phấn khởi đón Người',\n",
       "    'usage 7': ['humain'],\n",
       "    'context 8': 'Loài người',\n",
       "    'usage 8': ['étranger'],\n",
       "    'context 9': 'Nước người',\n",
       "    'usage 9': ['��pays étranger'],\n",
       "    'nums context': 9,\n",
       "    'nums usage': 9}},\n",
       "  'nums': 2},\n",
       " 'những': {1: {'translation': ['Les', 'des'],\n",
       "   'examples': {'context 1': 'Những đứa trẻ',\n",
       "    'usage 1': ['les enfants'],\n",
       "    'context 2': 'Có những chỗ nước sâu tới hai mét',\n",
       "    'usage 2': [\"il y a des endroits où l'eau fait deux mètres de profondeur\"],\n",
       "    'nums context': 2,\n",
       "    'nums usage': 2}},\n",
       "  2: {'translation': [\"Jusqu'à\"],\n",
       "   'examples': {'context 1': 'Nó ăn những năm hát cơm',\n",
       "    'usage 1': [\"il mange jusqu'à cinq bols de riz\"],\n",
       "    'nums context': 1,\n",
       "    'nums usage': 1}},\n",
       "  3: {'translation': ['Rien que'],\n",
       "   'examples': {'context 1': 'Những nước là nước',\n",
       "    'usage 1': [\"rien que de l'eau\"],\n",
       "    'nums context': 1,\n",
       "    'nums usage': 1}},\n",
       "  4: {'translation': ['(kiểu cách) toujours'],\n",
       "   'examples': {'context 1': 'Tôi những tưởng rằng',\n",
       "    'usage 1': [\"j'ai toujours pensé que\"],\n",
       "    'nums context': 1,\n",
       "    'nums usage': 1}},\n",
       "  'nums': 4},\n",
       " 'đã': {1: {'translation': ['Déjà'], 'examples': 'N/A'},\n",
       "  2: {'translation': ['Non seulement'], 'examples': 'N/A'},\n",
       "  3: {'translation': ['Voilà'], 'examples': 'N/A'},\n",
       "  4: {'translation': ['Si'], 'examples': 'N/A'},\n",
       "  5: {'translation': ['À satiété', \"jusqu'à satiété'\"], 'examples': 'N/A'},\n",
       "  6: {'translation': ['(ít dùng) guérir'], 'examples': 'N/A'},\n",
       "  'nums': 6},\n",
       " 'ông': {1: {'translation': ['Grand père', 'grand oncle'], 'examples': 'N/A'},\n",
       "  2: {'translation': ['Monsieur'],\n",
       "   'examples': {'context 1': 'Ông Ba',\n",
       "    'usage 1': ['monsieur Ba'],\n",
       "    'context 2': 'Một ông trạc bốn mươi tuổi',\n",
       "    'usage 2': [\"un monsieur d'une quarantaine d'années\"],\n",
       "    'nums context': 2,\n",
       "    'nums usage': 2}},\n",
       "  3: {'translation': ['Son Excellence', 'son Altesse Monsieur'],\n",
       "   'examples': {'context 1': 'Đức ông',\n",
       "    'usage 1': ['son Altesse'],\n",
       "    'nums context': 1,\n",
       "    'nums usage': 1}},\n",
       "  4: {'translation': [\"(mot placé devant certains noms désignant des personnes ou des animaux que l'on respecte ou que l'on craint\",\n",
       "    'ne se traduit pas)'],\n",
       "   'examples': {'context 1': 'Ông trăng',\n",
       "    'usage 1': ['la lune'],\n",
       "    'context 2': 'Ông voi',\n",
       "    'usage 2': [\"l'éléphant\"],\n",
       "    'nums context': 2,\n",
       "    'nums usage': 2}},\n",
       "  5: {'translation': ['Je', 'moi', 'mon', 'ma', 'mes'],\n",
       "   'examples': {'context 1': 'Cháu lại đây ông có cái kẹo cho cháu',\n",
       "    'usage 1': [\"��viens mon petit fils j'ai un bonbon à te donner\"],\n",
       "    'nums context': 1,\n",
       "    'nums usage': 1}},\n",
       "  6: {'translation': ['Vous',\n",
       "    'tu',\n",
       "    'votre',\n",
       "    'ton',\n",
       "    'ta',\n",
       "    \"tes (quand on  s' adresse à son grand-père ou à son grand à son grand-oncle)\"],\n",
       "   'examples': {'context 1': 'Ông ơi cho cháu đi với',\n",
       "    'usage 1': ['��grand papa laisse-moi te suivre'],\n",
       "    'nums context': 1,\n",
       "    'nums usage': 1}},\n",
       "  7: {'translation': ['Vous', 'votre (deuxième personne du singulier)'],\n",
       "   'examples': 'N/A'},\n",
       "  8: {'translation': ['Il',\n",
       "    'lui',\n",
       "    'son',\n",
       "    'sa',\n",
       "    'ses (quand les petits enfants parlent de leur grand-père ou à leur grand-oncle)'],\n",
       "   'examples': {'context 1': 'Ông chỉ hộ cháu đường ra ga',\n",
       "    'usage 1': [\"��monsieur voudriez-vous m'indiquer le chemin de la gare\"],\n",
       "    'context 2': 'ông nói gà bà nói vịt',\n",
       "    'usage 2': [\"l'un tire à dia l' autre à hue\"],\n",
       "    'nums context': 2,\n",
       "    'nums usage': 2}},\n",
       "  'nums': 8},\n",
       " 'cho': {1: {'translation': ['Donner', 'faire cadeau', 'fournir'],\n",
       "   'examples': {'context 1': 'Cho tiền',\n",
       "    'usage 1': [\"donner de l'argent\"],\n",
       "    'context 2': 'Cho một cái tát',\n",
       "    'usage 2': ['donner un souflet', 'donner une gifle'],\n",
       "    'context 3': 'Cha nó cho nó một cái xe đạp',\n",
       "    'usage 3': [\"son père lui a fait cadeau d'une bicyclette\"],\n",
       "    'context 4': 'Cho một điều chỉ dẫn',\n",
       "    'usage 4': ['fournir un renseignement'],\n",
       "    'nums context': 4,\n",
       "    'nums usage': 4}},\n",
       "  2: {'translation': ['Accorder', 'permettre', 'autoriser'],\n",
       "   'examples': {'context 1': 'Cho tôi xin một tuần lễ',\n",
       "    'usage 1': ['accordez-moi une semaine'],\n",
       "    'context 2': 'Xin ông cho tôi ra ngoài',\n",
       "    'usage 2': ['permettez-moi de sortir', \"s'il vous pla†t\"],\n",
       "    'context 3': 'ông ấy không cho tôi đi',\n",
       "    'usage 3': [\"il ne m'a pas autorisé à  partir\"],\n",
       "    'nums context': 3,\n",
       "    'nums usage': 3}},\n",
       "  3: {'translation': ['Estimer', 'considérer', 'taxer', 'traiter'],\n",
       "   'examples': {'context 1': 'Tôi cho là anh lầm',\n",
       "    'usage 1': [\"j'estime que vous avez tort\"],\n",
       "    'context 2': 'Tôi cho rằng nó là một kẻ nói dối',\n",
       "    'usage 2': [\"je considère qu'il est un menteur\"],\n",
       "    'context 3': 'Cho ai là keo kiệt',\n",
       "    'usage 3': [\"taxer quelqu'un d' avarice\"],\n",
       "    'context 4': 'Cho ai là điên',\n",
       "    'usage 4': [\"traiter quelqu' un de fou\"],\n",
       "    'nums context': 4,\n",
       "    'nums usage': 4}},\n",
       "  4: {'translation': ['Faire', 'laisser', 'envoyer'],\n",
       "   'examples': {'context 1': 'Cho nó vào',\n",
       "    'usage 1': ['faites-le entrer'],\n",
       "    'context 2': 'Cho máy chạy',\n",
       "    'usage 2': ['faire fonctionner la machine'],\n",
       "    'context 3': 'Cho nó ra',\n",
       "    'usage 3': ['laissez-le sortir'],\n",
       "    'context 4': 'Cho ai đi tìm nó',\n",
       "    'usage 4': [\"envoyez quelqu'un le chercher\"],\n",
       "    'nums context': 4,\n",
       "    'nums usage': 4}},\n",
       "  5: {'translation': ['Mettre',\n",
       "    'engager',\n",
       "    'introduire',\n",
       "    'flanquer',\n",
       "    'fourrer',\n",
       "    'foutre'],\n",
       "   'examples': {'context 1': 'Cho con vào nhà kí túc',\n",
       "    'usage 1': ['mettre son enfant en pension'],\n",
       "    'context 2': 'Cho chìa khoá vào lỗ khoá',\n",
       "    'usage 2': ['engager la clef dans le trou de la serrure'],\n",
       "    'nums context': 2,\n",
       "    'nums usage': 2}},\n",
       "  6: {'translation': ['Passer', 'livrer'],\n",
       "   'examples': {'context 1': 'Cho tôi cái mũ của tôi',\n",
       "    'usage 1': ['passez-moi mon chapeau'],\n",
       "    'context 2': 'Bà cho tôi món hàng này tại nhà',\n",
       "    'usage 2': ['vous me livrez cette marchadise à domicile'],\n",
       "    'nums context': 2,\n",
       "    'nums usage': 2}},\n",
       "  7: {'translation': ['Pour', 'à'],\n",
       "   'examples': {'context 1': 'Sách cho thiếu nhi',\n",
       "    'usage 1': ['livre pour enfants'],\n",
       "    'context 2': 'Tất cả cho chiến thắng',\n",
       "    'usage 2': ['tout pour la victoire'],\n",
       "    'nums context': 2,\n",
       "    'nums usage': 2}},\n",
       "  8: {'translation': ['Pour que', 'afin que'],\n",
       "   'examples': {'context 1': 'Tôi cho anh biết',\n",
       "    'usage 1': ['je le dis pour que vous le sachiez'],\n",
       "    'nums context': 1,\n",
       "    'nums usage': 1}},\n",
       "  9: {'translation': ['(toán học) soit'],\n",
       "   'examples': {'context 1': 'Cho một tam giác cân ABC',\n",
       "    'usage 1': ['soit un triangle isocèle ABC'],\n",
       "    'context 2': 'Cho ăn kẹo',\n",
       "    'usage 2': [\"de toute fa�on il n'oserait pas\"],\n",
       "    'context 3': 'Cho biết tay',\n",
       "    'usage 3': ['��pour faire sentir la force de son bras'],\n",
       "    'context 4': 'Cho đi tàu bay',\n",
       "    'usage 4': [\"louer à l'excès (dans l'intention de duper)\"],\n",
       "    'nums context': 4,\n",
       "    'nums usage': 4}},\n",
       "  'nums': 9},\n",
       " 'như': {1: {'translation': ['Comme'],\n",
       "   'examples': {'context 1': 'Họ giống nhau như đúc',\n",
       "    'usage 1': [\"ils se ressemblent comme deux gouttes d'eau'\"],\n",
       "    'context 2': 'Như tôi đã nói với anh',\n",
       "    'usage 2': [\"comme je vous l'ai dit'\"],\n",
       "    'context 3': 'Giàu như anh ta',\n",
       "    'usage 3': ['riche comme il est'],\n",
       "    'context 4': 'Như thường lệ',\n",
       "    'usage 4': ['comme de coutume', \"comme d'habitude'\"],\n",
       "    'nums context': 4,\n",
       "    'nums usage': 4}},\n",
       "  2: {'translation': ['Autant que'],\n",
       "   'examples': {'context 1': 'Tôi cũng vui mừng về điều đó như anh',\n",
       "    'usage 1': [\"je m'en réjouis autant que vous'\"],\n",
       "    'nums context': 1,\n",
       "    'nums usage': 1}},\n",
       "  3: {'translation': ['Tel que'],\n",
       "   'examples': {'context 1': 'Gia súc như chó mèo',\n",
       "    'usage 1': ['les animaux domestiques tels que le chien', 'le chat'],\n",
       "    'nums context': 1,\n",
       "    'nums usage': 1}},\n",
       "  4: {'translation': ['Si au cas où'],\n",
       "   'examples': {'context 1': 'Như ông đồng ý tôi sẽ nhường cho ông',\n",
       "    'usage 1': [\"si vous êtes d'accord\", \"je vous le céderai'\"],\n",
       "    'nums context': 1,\n",
       "    'nums usage': 1}},\n",
       "  'nums': 4},\n",
       " 'ta': {1: {'translation': ['Je', 'moi', 'me', ''],\n",
       "   'examples': {'context 1': 'Ta cũng nghĩ thế',\n",
       "    'usage 1': ['je pense de même', ''],\n",
       "    'nums context': 1,\n",
       "    'nums usage': 1}},\n",
       "  2: {'translation': ['Nous', ''],\n",
       "   'examples': {'context 1': 'Bọn ta',\n",
       "    'usage 1': ['nous autres', ''],\n",
       "    'context 2': 'Ta cùng đi',\n",
       "    'usage 2': ['nous partons ensemble'],\n",
       "    'context 3': 'ta về ta tắm ao ta',\n",
       "    'usage 3': ['notre', ''],\n",
       "    'context 4': 'Nước ta',\n",
       "    'usage 4': ['��notre pays', ''],\n",
       "    'context 5': 'Ông ta',\n",
       "    'usage 5': ['traditionnel', 'aborigène', 'indigène', ''],\n",
       "    'context 6': 'Quần áo ta',\n",
       "    'usage 6': ['��costume traditionnel', ''],\n",
       "    'context 7': 'Hành ta oignon',\n",
       "    'usage 7': ['hein!'],\n",
       "    'context 8': 'Đẹp quá ta!',\n",
       "    'usage 8': [\"��hein! que c'est beau!\"],\n",
       "    'nums context': 8,\n",
       "    'nums usage': 8}},\n",
       "  'nums': 2},\n",
       " 'trong': {1: {'translation': ['Clair', 'limpide', ''],\n",
       "   'examples': {'context 1': 'Nước trong',\n",
       "    'usage 1': ['eau claire (limpide)', ''],\n",
       "    'context 2': 'Trời trong',\n",
       "    'usage 2': ['temps clair (limpide)', ''],\n",
       "    'context 3': 'Giọng trong',\n",
       "    'usage 3': ['voix claire', ''],\n",
       "    'nums context': 3,\n",
       "    'nums usage': 3}},\n",
       "  2: {'translation': ['(sinh vật học', 'sinh lý học) pellucide', ''],\n",
       "   'examples': {'context 1': 'Màng trong',\n",
       "    'usage 1': ['une membrane pellucide', ''],\n",
       "    'nums context': 1,\n",
       "    'nums usage': 1}},\n",
       "  3: {'translation': ['Dans',\n",
       "    'dedans',\n",
       "    'en',\n",
       "    'au',\n",
       "    'sur',\n",
       "    'parmi',\n",
       "    '',\n",
       "    '',\n",
       "    ''],\n",
       "   'examples': {'context 1': 'Trong nhà',\n",
       "    'usage 1': ['dans la maison', ''],\n",
       "    'context 2': 'Trong ba tiếng đồng hồ nữa',\n",
       "    'usage 2': ['dans trois heures', ''],\n",
       "    'context 3': 'Cắt ảnh trong tờ báo',\n",
       "    'usage 3': ['découper une image dans un journal', ''],\n",
       "    'context 4': 'Trong lúc này',\n",
       "    'usage 4': ['en ce moment', ''],\n",
       "    'context 5': 'Trong lớp',\n",
       "    'usage 5': ['en lasse', ''],\n",
       "    'context 6': 'Một trong trăm trường hợp',\n",
       "    'usage 6': ['un cas sur cent', ''],\n",
       "    'context 7': 'Trong chúng ta',\n",
       "    'usage 7': ['parmi nous', ''],\n",
       "    'context 8': 'Trong kia kìa',\n",
       "    'usage 8': ['là-dedans', ''],\n",
       "    'context 9': 'Trong Nam',\n",
       "    'usage 9': ['au Sud', ''],\n",
       "    'nums context': 9,\n",
       "    'nums usage': 9}},\n",
       "  4: {'translation': ['Avant', ''],\n",
       "   'examples': {'context 1': 'Trong Tết tôi có viết thư cho anh',\n",
       "    'usage 1': ['je vous ai écrit avant le Têt', ''],\n",
       "    'nums context': 1,\n",
       "    'nums usage': 1}},\n",
       "  5: {'translation': ['Intérieur', 'interne', ''],\n",
       "   'examples': {'context 1': 'Sân trong',\n",
       "    'usage 1': ['cour intérieure', ''],\n",
       "    'context 2': 'Mặt trong',\n",
       "    'usage 2': ['face intérieure', ''],\n",
       "    'context 3': 'Tai trong',\n",
       "    'usage 3': ['(giải phẫu học) oreille interne'],\n",
       "    'context 4': 'Động cơ đốt trong',\n",
       "    'usage 4': ['moteur à combustion interne', ''],\n",
       "    'nums context': 4,\n",
       "    'nums usage': 4}},\n",
       "  6: {'translation': ['(thực vật học) intraire', ''],\n",
       "   'examples': {'context 1': 'Phôi trong',\n",
       "    'usage 1': ['embryon intraire', ''],\n",
       "    'nums context': 1,\n",
       "    'nums usage': 1}},\n",
       "  'nums': 6}}"
      ]
     },
     "execution_count": 24,
     "metadata": {},
     "output_type": "execute_result"
    }
   ],
   "source": [
    "dictionary"
   ]
  },
  {
   "cell_type": "code",
   "execution_count": 25,
   "metadata": {},
   "outputs": [],
   "source": [
    "with open('soha VI-FR.json', 'w') as outfile:\n",
    "    json.dump(dictionary, outfile)"
   ]
  }
 ],
 "metadata": {
  "kernelspec": {
   "display_name": "Python 3",
   "language": "python",
   "name": "python3"
  },
  "language_info": {
   "codemirror_mode": {
    "name": "ipython",
    "version": 3
   },
   "file_extension": ".py",
   "mimetype": "text/x-python",
   "name": "python",
   "nbconvert_exporter": "python",
   "pygments_lexer": "ipython3",
   "version": "3.7.7"
  }
 },
 "nbformat": 4,
 "nbformat_minor": 4
}
