{
 "cells": [
  {
   "cell_type": "code",
   "execution_count": 1,
   "metadata": {},
   "outputs": [],
   "source": [
    "import urllib.request \n",
    "from urllib.parse import quote \n",
    "from bs4 import BeautifulSoup\n",
    "import json"
   ]
  },
  {
   "cell_type": "code",
   "execution_count": 2,
   "metadata": {},
   "outputs": [],
   "source": [
    "#Source: https://codezup.com/web-scraping-word-meaning-dictionary-python-beautifulsoup/"
   ]
  },
  {
   "cell_type": "code",
   "execution_count": 3,
   "metadata": {},
   "outputs": [],
   "source": [
    "with open('./wordList', 'r') as infile:\n",
    "    wordList = infile.read()"
   ]
  },
  {
   "cell_type": "code",
   "execution_count": 4,
   "metadata": {},
   "outputs": [],
   "source": [
    "wordList = wordList.split()"
   ]
  },
  {
   "cell_type": "code",
   "execution_count": 5,
   "metadata": {},
   "outputs": [
    {
     "data": {
      "text/plain": [
       "['một',\n",
       " 'và',\n",
       " 'của',\n",
       " 'là',\n",
       " 'có',\n",
       " 'không',\n",
       " 'tôi',\n",
       " 'người',\n",
       " 'những',\n",
       " 'đã',\n",
       " 'ông',\n",
       " 'cho',\n",
       " 'như',\n",
       " 'ta',\n",
       " 'trong']"
      ]
     },
     "execution_count": 5,
     "metadata": {},
     "output_type": "execute_result"
    }
   ],
   "source": [
    "wordList"
   ]
  },
  {
   "cell_type": "code",
   "execution_count": 6,
   "metadata": {},
   "outputs": [],
   "source": [
    "#The link format for vdict Viet-Eng is: https://vdict.com/m%E1%BB%99t,2,0,0.html"
   ]
  },
  {
   "cell_type": "code",
   "execution_count": 7,
   "metadata": {},
   "outputs": [],
   "source": [
    "#Converting IRI to ASCII:\n",
    "#https://stackoverflow.com/questions/4389572/how-to-fetch-a-non-ascii-url-with-python-urlopen"
   ]
  },
  {
   "cell_type": "code",
   "execution_count": 8,
   "metadata": {},
   "outputs": [],
   "source": [
    "def findTranslation(word):\n",
    "    url = \"https://vdict.com/\" + quote(word) + \",2,0,0.html\" #resolving the IRI issue\n",
    "\n",
    "    source = urllib.request.urlopen(url)\n",
    "    soup = BeautifulSoup(source, 'lxml')\n",
    "    \n",
    "    translations = {}\n",
    "    \n",
    "    #Getting all the POS of a word\n",
    "    pos = [item.string.split(' \\xa0')[0] for item in soup.findAll(\"div\", class_ = 'phanloai')]\n",
    "    \n",
    "    #the number of translations should be equal to the number of TOS \n",
    "    translations['nums'] = len(pos)\n",
    "    \n",
    "    #find all translations on the site\n",
    "    containers = soup.findAll(\"ul\", class_= \"list1\")[0:len(pos)]\n",
    "    \n",
    "    for i in range(0, len(pos)):\n",
    "        temp= {} #temp dict to store each translation of a word\n",
    "        \n",
    "        #getting the raw translation\n",
    "        if (containers[i].find('b').find(',') != -1): #split by ','\n",
    "            temp['translation'] = containers[i].find('b').string.split(',') \n",
    "        else:\n",
    "            temp['translation'] = containers[i].find('b').string.split(';') \n",
    "        \n",
    "        temp['POS'] = pos[i]\n",
    "        \n",
    "        #retrieving the examples of each of the translations\n",
    "        try:\n",
    "            examples = containers[i].findAll(\"ul\", class_= \"list2\")\n",
    "            temp2 = {} #another dict to store each examples of a translation\n",
    "            \n",
    "            numExamples = len(list(examples))\n",
    "            temp2['nums'] = numExamples\n",
    "            \n",
    "            for i in range(0, numExamples):\n",
    "                temp2['context'] = examples[i].find(class_ = \"example-original\").string\n",
    "            \n",
    "                #retrieving the contexts of each examples\n",
    "                try: \n",
    "                    tempString = str(examples[i].find(\"li\")) #extracting the context\n",
    "                    temp2['usage ' + str(i+1)] = tempString[tempString.find(\"<br/>\")+5:-5]\n",
    "                except:\n",
    "                    temp2['usage ' + str(i+1)] = \"N/A\"\n",
    "                \n",
    "            temp['examples'] = temp2\n",
    "        except:\n",
    "            temp['examples'] = \"N/A\"\n",
    "        translations[str(i+1)] = temp\n",
    "        \n",
    "    return translations"
   ]
  },
  {
   "cell_type": "code",
   "execution_count": 9,
   "metadata": {},
   "outputs": [],
   "source": [
    "url = \"https://vdict.com/\" + quote(\"một\") + \",2,0,0.html\" #resolving the IRI issue\n",
    "\n",
    "source = urllib.request.urlopen(url)\n",
    "soup = BeautifulSoup(source, 'lxml')"
   ]
  },
  {
   "cell_type": "code",
   "execution_count": 10,
   "metadata": {},
   "outputs": [],
   "source": [
    "pos = [item.string.split(' \\xa0')[0] for item in soup.findAll(\"div\", class_ = 'phanloai')]"
   ]
  },
  {
   "cell_type": "code",
   "execution_count": 11,
   "metadata": {},
   "outputs": [
    {
     "data": {
      "text/plain": [
       "[<ul class=\"list1\"><li><b>one</b><ul class=\"list2\"><li><span class=\"example-original\">từng cái (người) một</span><br/>one by one. a; an</li></ul><ul class=\"list2\"><li><span class=\"example-original\">một ngày</span><br/>a day</li></ul><ul class=\"list2\"><li><span class=\"example-original\">một bên</span><br/>an one hand</li></ul></li></ul>]"
      ]
     },
     "execution_count": 11,
     "metadata": {},
     "output_type": "execute_result"
    }
   ],
   "source": [
    "containers = soup.findAll(\"ul\", class_= \"list1\")[0:len(pos)]\n",
    "containers"
   ]
  },
  {
   "cell_type": "code",
   "execution_count": 12,
   "metadata": {},
   "outputs": [
    {
     "data": {
      "text/plain": [
       "['one']"
      ]
     },
     "execution_count": 12,
     "metadata": {},
     "output_type": "execute_result"
    }
   ],
   "source": [
    "meanings = [item.find('b').string for item in containers[0:len(pos)]] #word translation\n",
    "meanings"
   ]
  },
  {
   "cell_type": "code",
   "execution_count": 13,
   "metadata": {},
   "outputs": [
    {
     "data": {
      "text/plain": [
       "'a day'"
      ]
     },
     "execution_count": 13,
     "metadata": {},
     "output_type": "execute_result"
    }
   ],
   "source": [
    "examples = containers[0].findAll(\"ul\", class_= \"list2\")\n",
    "temp = str(examples[1].find(\"li\"))\n",
    "temp[temp.find(\"<br/>\")+5:-5]"
   ]
  },
  {
   "cell_type": "code",
   "execution_count": 14,
   "metadata": {},
   "outputs": [
    {
     "ename": "NameError",
     "evalue": "name 'tos' is not defined",
     "output_type": "error",
     "traceback": [
      "\u001b[0;31m---------------------------------------------------------------------------\u001b[0m",
      "\u001b[0;31mNameError\u001b[0m                                 Traceback (most recent call last)",
      "\u001b[0;32m<ipython-input-14-727acb8b5b51>\u001b[0m in \u001b[0;36m<module>\u001b[0;34m\u001b[0m\n\u001b[0;32m----> 1\u001b[0;31m \u001b[0mdictionary\u001b[0m \u001b[0;34m=\u001b[0m \u001b[0;34m{\u001b[0m\u001b[0mword\u001b[0m\u001b[0;34m:\u001b[0m \u001b[0mfindTranslation\u001b[0m\u001b[0;34m(\u001b[0m\u001b[0mword\u001b[0m\u001b[0;34m)\u001b[0m \u001b[0;32mfor\u001b[0m \u001b[0mword\u001b[0m \u001b[0;32min\u001b[0m \u001b[0mwordList\u001b[0m\u001b[0;34m}\u001b[0m\u001b[0;34m\u001b[0m\u001b[0;34m\u001b[0m\u001b[0m\n\u001b[0m",
      "\u001b[0;32m<ipython-input-14-727acb8b5b51>\u001b[0m in \u001b[0;36m<dictcomp>\u001b[0;34m(.0)\u001b[0m\n\u001b[0;32m----> 1\u001b[0;31m \u001b[0mdictionary\u001b[0m \u001b[0;34m=\u001b[0m \u001b[0;34m{\u001b[0m\u001b[0mword\u001b[0m\u001b[0;34m:\u001b[0m \u001b[0mfindTranslation\u001b[0m\u001b[0;34m(\u001b[0m\u001b[0mword\u001b[0m\u001b[0;34m)\u001b[0m \u001b[0;32mfor\u001b[0m \u001b[0mword\u001b[0m \u001b[0;32min\u001b[0m \u001b[0mwordList\u001b[0m\u001b[0;34m}\u001b[0m\u001b[0;34m\u001b[0m\u001b[0;34m\u001b[0m\u001b[0m\n\u001b[0m",
      "\u001b[0;32m<ipython-input-8-4e8d55f77cb9>\u001b[0m in \u001b[0;36mfindTranslation\u001b[0;34m(word)\u001b[0m\n\u001b[1;32m     16\u001b[0m     \u001b[0mcontainers\u001b[0m \u001b[0;34m=\u001b[0m \u001b[0msoup\u001b[0m\u001b[0;34m.\u001b[0m\u001b[0mfindAll\u001b[0m\u001b[0;34m(\u001b[0m\u001b[0;34m\"ul\"\u001b[0m\u001b[0;34m,\u001b[0m \u001b[0mclass_\u001b[0m\u001b[0;34m=\u001b[0m \u001b[0;34m\"list1\"\u001b[0m\u001b[0;34m)\u001b[0m\u001b[0;34m[\u001b[0m\u001b[0;36m0\u001b[0m\u001b[0;34m:\u001b[0m\u001b[0mlen\u001b[0m\u001b[0;34m(\u001b[0m\u001b[0mpos\u001b[0m\u001b[0;34m)\u001b[0m\u001b[0;34m]\u001b[0m\u001b[0;34m\u001b[0m\u001b[0;34m\u001b[0m\u001b[0m\n\u001b[1;32m     17\u001b[0m \u001b[0;34m\u001b[0m\u001b[0m\n\u001b[0;32m---> 18\u001b[0;31m     \u001b[0;32mfor\u001b[0m \u001b[0mi\u001b[0m \u001b[0;32min\u001b[0m \u001b[0mrange\u001b[0m\u001b[0;34m(\u001b[0m\u001b[0;36m0\u001b[0m\u001b[0;34m,\u001b[0m \u001b[0mlen\u001b[0m\u001b[0;34m(\u001b[0m\u001b[0mtos\u001b[0m\u001b[0;34m)\u001b[0m\u001b[0;34m)\u001b[0m\u001b[0;34m:\u001b[0m\u001b[0;34m\u001b[0m\u001b[0;34m\u001b[0m\u001b[0m\n\u001b[0m\u001b[1;32m     19\u001b[0m         \u001b[0mtemp\u001b[0m\u001b[0;34m=\u001b[0m \u001b[0;34m{\u001b[0m\u001b[0;34m}\u001b[0m \u001b[0;31m#temp dict to store each translation of a word\u001b[0m\u001b[0;34m\u001b[0m\u001b[0;34m\u001b[0m\u001b[0m\n\u001b[1;32m     20\u001b[0m \u001b[0;34m\u001b[0m\u001b[0m\n",
      "\u001b[0;31mNameError\u001b[0m: name 'tos' is not defined"
     ]
    }
   ],
   "source": [
    "dictionary = {word: findTranslation(word) for word in wordList}"
   ]
  },
  {
   "cell_type": "code",
   "execution_count": null,
   "metadata": {},
   "outputs": [],
   "source": [
    "dictionary"
   ]
  },
  {
   "cell_type": "code",
   "execution_count": null,
   "metadata": {},
   "outputs": [],
   "source": [
    "with open('dictionary.txt', 'w') as outfile:\n",
    "    json.dump(data, outfile)"
   ]
  }
 ],
 "metadata": {
  "kernelspec": {
   "display_name": "Python 3",
   "language": "python",
   "name": "python3"
  },
  "language_info": {
   "codemirror_mode": {
    "name": "ipython",
    "version": 3
   },
   "file_extension": ".py",
   "mimetype": "text/x-python",
   "name": "python",
   "nbconvert_exporter": "python",
   "pygments_lexer": "ipython3",
   "version": "3.7.7"
  }
 },
 "nbformat": 4,
 "nbformat_minor": 4
}
