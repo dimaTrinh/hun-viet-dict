{
 "cells": [
  {
   "cell_type": "code",
   "execution_count": 1,
   "metadata": {},
   "outputs": [],
   "source": [
    "import urllib.request \n",
    "from urllib.parse import quote \n",
    "from bs4 import BeautifulSoup\n",
    "import json"
   ]
  },
  {
   "cell_type": "code",
   "execution_count": 2,
   "metadata": {},
   "outputs": [],
   "source": [
    "#Source: https://codezup.com/web-scraping-word-meaning-dictionary-python-beautifulsoup/"
   ]
  },
  {
   "cell_type": "code",
   "execution_count": 3,
   "metadata": {},
   "outputs": [
    {
     "ename": "UnicodeDecodeError",
     "evalue": "'charmap' codec can't decode byte 0x9d in position 49: character maps to <undefined>",
     "output_type": "error",
     "traceback": [
      "\u001b[1;31m---------------------------------------------------------------------------\u001b[0m",
      "\u001b[1;31mUnicodeDecodeError\u001b[0m                        Traceback (most recent call last)",
      "\u001b[1;32m<ipython-input-3-5914e2c852b1>\u001b[0m in \u001b[0;36m<module>\u001b[1;34m\u001b[0m\n\u001b[0;32m      1\u001b[0m \u001b[1;32mwith\u001b[0m \u001b[0mopen\u001b[0m\u001b[1;33m(\u001b[0m\u001b[1;34m'./wordList'\u001b[0m\u001b[1;33m,\u001b[0m \u001b[1;34m'r'\u001b[0m\u001b[1;33m)\u001b[0m \u001b[1;32mas\u001b[0m \u001b[0minfile\u001b[0m\u001b[1;33m:\u001b[0m\u001b[1;33m\u001b[0m\u001b[1;33m\u001b[0m\u001b[0m\n\u001b[1;32m----> 2\u001b[1;33m     \u001b[0mwordList\u001b[0m \u001b[1;33m=\u001b[0m \u001b[0minfile\u001b[0m\u001b[1;33m.\u001b[0m\u001b[0mread\u001b[0m\u001b[1;33m(\u001b[0m\u001b[1;33m)\u001b[0m\u001b[1;33m\u001b[0m\u001b[1;33m\u001b[0m\u001b[0m\n\u001b[0m",
      "\u001b[1;32m~\\Anaconda3\\lib\\encodings\\cp1252.py\u001b[0m in \u001b[0;36mdecode\u001b[1;34m(self, input, final)\u001b[0m\n\u001b[0;32m     21\u001b[0m \u001b[1;32mclass\u001b[0m \u001b[0mIncrementalDecoder\u001b[0m\u001b[1;33m(\u001b[0m\u001b[0mcodecs\u001b[0m\u001b[1;33m.\u001b[0m\u001b[0mIncrementalDecoder\u001b[0m\u001b[1;33m)\u001b[0m\u001b[1;33m:\u001b[0m\u001b[1;33m\u001b[0m\u001b[1;33m\u001b[0m\u001b[0m\n\u001b[0;32m     22\u001b[0m     \u001b[1;32mdef\u001b[0m \u001b[0mdecode\u001b[0m\u001b[1;33m(\u001b[0m\u001b[0mself\u001b[0m\u001b[1;33m,\u001b[0m \u001b[0minput\u001b[0m\u001b[1;33m,\u001b[0m \u001b[0mfinal\u001b[0m\u001b[1;33m=\u001b[0m\u001b[1;32mFalse\u001b[0m\u001b[1;33m)\u001b[0m\u001b[1;33m:\u001b[0m\u001b[1;33m\u001b[0m\u001b[1;33m\u001b[0m\u001b[0m\n\u001b[1;32m---> 23\u001b[1;33m         \u001b[1;32mreturn\u001b[0m \u001b[0mcodecs\u001b[0m\u001b[1;33m.\u001b[0m\u001b[0mcharmap_decode\u001b[0m\u001b[1;33m(\u001b[0m\u001b[0minput\u001b[0m\u001b[1;33m,\u001b[0m\u001b[0mself\u001b[0m\u001b[1;33m.\u001b[0m\u001b[0merrors\u001b[0m\u001b[1;33m,\u001b[0m\u001b[0mdecoding_table\u001b[0m\u001b[1;33m)\u001b[0m\u001b[1;33m[\u001b[0m\u001b[1;36m0\u001b[0m\u001b[1;33m]\u001b[0m\u001b[1;33m\u001b[0m\u001b[1;33m\u001b[0m\u001b[0m\n\u001b[0m\u001b[0;32m     24\u001b[0m \u001b[1;33m\u001b[0m\u001b[0m\n\u001b[0;32m     25\u001b[0m \u001b[1;32mclass\u001b[0m \u001b[0mStreamWriter\u001b[0m\u001b[1;33m(\u001b[0m\u001b[0mCodec\u001b[0m\u001b[1;33m,\u001b[0m\u001b[0mcodecs\u001b[0m\u001b[1;33m.\u001b[0m\u001b[0mStreamWriter\u001b[0m\u001b[1;33m)\u001b[0m\u001b[1;33m:\u001b[0m\u001b[1;33m\u001b[0m\u001b[1;33m\u001b[0m\u001b[0m\n",
      "\u001b[1;31mUnicodeDecodeError\u001b[0m: 'charmap' codec can't decode byte 0x9d in position 49: character maps to <undefined>"
     ]
    }
   ],
   "source": [
    "with open('./wordList', 'r') as infile:\n",
    "    wordList = infile.read()"
   ]
  },
  {
   "cell_type": "code",
   "execution_count": null,
   "metadata": {},
   "outputs": [],
   "source": [
    "wordList = wordList.split()"
   ]
  },
  {
   "cell_type": "code",
   "execution_count": null,
   "metadata": {},
   "outputs": [],
   "source": [
    "wordList"
   ]
  },
  {
   "cell_type": "code",
   "execution_count": null,
   "metadata": {},
   "outputs": [],
   "source": [
    "#The link format for vdict Viet-Eng is: https://vdict.com/m%E1%BB%99t,2,0,0.html"
   ]
  },
  {
   "cell_type": "code",
   "execution_count": null,
   "metadata": {},
   "outputs": [],
   "source": [
    "#Converting IRI to ASCII:\n",
    "#https://stackoverflow.com/questions/4389572/how-to-fetch-a-non-ascii-url-with-python-urlopen"
   ]
  },
  {
   "cell_type": "code",
   "execution_count": null,
   "metadata": {},
   "outputs": [],
   "source": [
    "def findTranslation(word):\n",
    "    url = \"https://vdict.com/\" + quote(word) + \",2,0,0.html\" #resolving the IRI issue\n",
    "\n",
    "    source = urllib.request.urlopen(url)\n",
    "    soup = BeautifulSoup(source, 'lxml')\n",
    "    \n",
    "    translations = {}\n",
    "    \n",
    "    #Getting all the POS of a word\n",
    "    pos = [item.string.split(' \\xa0')[0] for item in soup.findAll(\"div\", class_ = 'phanloai')]\n",
    "    \n",
    "    #the number of translations should be equal to the number of TOS \n",
    "    translations['nums'] = len(pos)\n",
    "    \n",
    "    #find all translations on the site\n",
    "    containers = soup.findAll(\"ul\", class_= \"list1\")[0:len(pos)]\n",
    "    \n",
    "    for i in range(0, len(pos)):\n",
    "        temp= {} #temp dict to store each translation of a word\n",
    "        \n",
    "        #getting the raw translation\n",
    "        if (containers[i].find('b').find(',') != -1): #split by ','\n",
    "            temp['translation'] = containers[i].find('b').string.split(',') \n",
    "        else:\n",
    "            temp['translation'] = containers[i].find('b').string.split(';') \n",
    "        \n",
    "        temp['POS'] = pos[i]\n",
    "        \n",
    "        #retrieving the examples of each of the translations\n",
    "        try:\n",
    "            examples = containers[i].findAll(\"ul\", class_= \"list2\")\n",
    "            temp2 = {} #another dict to store each examples of a translation\n",
    "            \n",
    "            numExamples = len(list(examples))\n",
    "            temp2['nums'] = numExamples\n",
    "            \n",
    "            for i in range(0, numExamples):\n",
    "                temp2['context'] = examples[i].find(class_ = \"example-original\").string\n",
    "            \n",
    "                #retrieving the contexts of each examples\n",
    "                try: \n",
    "                    tempString = str(examples[i].find(\"li\")) #extracting the context\n",
    "                    temp2['usage ' + str(i+1)] = tempString[tempString.find(\"<br/>\")+5:-5]\n",
    "                except:\n",
    "                    temp2['usage ' + str(i+1)] = \"N/A\"\n",
    "                \n",
    "            temp['examples'] = temp2\n",
    "        except:\n",
    "            temp['examples'] = \"N/A\"\n",
    "        translations[str(i+1)] = temp\n",
    "        \n",
    "    return translations"
   ]
  },
  {
   "cell_type": "code",
   "execution_count": null,
   "metadata": {},
   "outputs": [],
   "source": [
    "url = \"https://vdict.com/\" + quote(\"một\") + \",2,0,0.html\" #resolving the IRI issue\n",
    "\n",
    "source = urllib.request.urlopen(url)\n",
    "soup = BeautifulSoup(source, 'lxml')"
   ]
  },
  {
   "cell_type": "code",
   "execution_count": null,
   "metadata": {},
   "outputs": [],
   "source": [
    "pos = [item.string.split(' \\xa0')[0] for item in soup.findAll(\"div\", class_ = 'phanloai')]"
   ]
  },
  {
   "cell_type": "code",
   "execution_count": null,
   "metadata": {},
   "outputs": [],
   "source": [
    "containers = soup.findAll(\"ul\", class_= \"list1\")[0:len(pos)]\n",
    "containers"
   ]
  },
  {
   "cell_type": "code",
   "execution_count": null,
   "metadata": {},
   "outputs": [],
   "source": [
    "meanings = [item.find('b').string for item in containers[0:len(pos)]] #word translation\n",
    "meanings"
   ]
  },
  {
   "cell_type": "code",
   "execution_count": null,
   "metadata": {},
   "outputs": [],
   "source": [
    "examples = containers[0].findAll(\"ul\", class_= \"list2\")\n",
    "temp = str(examples[1].find(\"li\"))\n",
    "temp[temp.find(\"<br/>\")+5:-5]"
   ]
  },
  {
   "cell_type": "code",
   "execution_count": null,
   "metadata": {},
   "outputs": [],
   "source": [
    "dictionary = {word: findTranslation(word) for word in wordList}"
   ]
  },
  {
   "cell_type": "code",
   "execution_count": null,
   "metadata": {},
   "outputs": [],
   "source": [
    "dictionary"
   ]
  },
  {
   "cell_type": "code",
   "execution_count": null,
   "metadata": {},
   "outputs": [],
   "source": [
    "with open('vdict VI-EN.json', 'w') as outfile:\n",
    "    json.dump(dictionary, outfile)"
   ]
  }
 ],
 "metadata": {
  "kernelspec": {
   "display_name": "Python 3",
   "language": "python",
   "name": "python3"
  },
  "language_info": {
   "codemirror_mode": {
    "name": "ipython",
    "version": 3
   },
   "file_extension": ".py",
   "mimetype": "text/x-python",
   "name": "python",
   "nbconvert_exporter": "python",
   "pygments_lexer": "ipython3",
   "version": "3.7.7"
  }
 },
 "nbformat": 4,
 "nbformat_minor": 4
}
