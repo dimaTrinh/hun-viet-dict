{
 "cells": [
  {
   "cell_type": "code",
   "execution_count": 20,
   "metadata": {},
   "outputs": [],
   "source": [
    "import glob\n",
    "from collections import OrderedDict, Counter\n",
    "\n",
    "class OrderedCounter(Counter, OrderedDict):\n",
    "    pass"
   ]
  },
  {
   "cell_type": "code",
   "execution_count": 21,
   "metadata": {},
   "outputs": [
    {
     "output_type": "execute_result",
     "data": {
      "text/plain": "['./confirmed soha hu-en-vi',\n './confirmed vdict hu-fr-vi',\n './confirmed soha hu-fr-vi',\n './confirmed vdict hu-en-vi',\n './confirmed wikt hu-en-vi',\n './confirmed wikt hu-fr-vi']"
     },
     "metadata": {},
     "execution_count": 21
    }
   ],
   "source": [
    "inputFiles = glob.glob(\"./confirmed*\")\n",
    "inputFiles"
   ]
  },
  {
   "cell_type": "code",
   "execution_count": 22,
   "metadata": {
    "tags": []
   },
   "outputs": [
    {
     "output_type": "stream",
     "name": "stdout",
     "text": "1284589\n713797\n"
    }
   ],
   "source": [
    "lines = []\n",
    "for file in inputFiles:\n",
    "    with open(file, \"r\") as infile:\n",
    "        lines.extend(infile.readlines())\n",
    "    \n",
    "print(len(lines))\n",
    "ordered_counter = OrderedCounter(lines)\n",
    "new_lines = [k.strip() for k, v in ordered_counter.items() if v==1]\n",
    "print(len(new_lines))"
   ]
  },
  {
   "cell_type": "code",
   "execution_count": 23,
   "metadata": {},
   "outputs": [],
   "source": [
    "def toList(strList):\n",
    "    strList = strList[1:-1]\n",
    "    lst = strList.split(',')\n",
    "    lst = [int(elem) for elem in lst]\n",
    "    lst.sort()\n",
    "    return lst"
   ]
  },
  {
   "cell_type": "code",
   "execution_count": 24,
   "metadata": {
    "tags": []
   },
   "outputs": [
    {
     "output_type": "stream",
     "name": "stdout",
     "text": "[2, 4, 12, 33]\n"
    }
   ],
   "source": [
    "a = \"[12, 2, 33, 4]\"\n",
    "print(toList(a))"
   ]
  },
  {
   "cell_type": "code",
   "execution_count": 25,
   "metadata": {},
   "outputs": [],
   "source": [
    "confDict = {}\n",
    "for line in new_lines:\n",
    "    try:\n",
    "        word, translation, random, occurLoc, conf = line.split(\"\\t\")\n",
    "        occurLoc = toList(occurLoc)\n",
    "        outputLine = word + \"\\t\" + translation + \"\\t\" + str(occurLoc) + \"\\t\" + conf + \"\\n\"\n",
    "        confDict[outputLine] = float(conf)\n",
    "    except:\n",
    "        continue"
   ]
  },
  {
   "cell_type": "code",
   "execution_count": 26,
   "metadata": {},
   "outputs": [
    {
     "output_type": "execute_result",
     "data": {
      "text/plain": "370788"
     },
     "metadata": {},
     "execution_count": 26
    }
   ],
   "source": [
    "len(confDict)"
   ]
  },
  {
   "cell_type": "code",
   "execution_count": 27,
   "metadata": {},
   "outputs": [],
   "source": [
    "sortedDict = {k: v for k, v in sorted(confDict.items(), key=lambda item: item[1], reverse = True)}"
   ]
  },
  {
   "cell_type": "code",
   "execution_count": 28,
   "metadata": {},
   "outputs": [],
   "source": [
    "outfile = open(\"./sorted_gold_dict\", \"w\")\n",
    "for key in sortedDict.keys():\n",
    "    outfile.write(key)\n",
    "outfile.close()"
   ]
  },
  {
   "cell_type": "code",
   "execution_count": 29,
   "metadata": {},
   "outputs": [
    {
     "output_type": "execute_result",
     "data": {
      "text/plain": "True"
     },
     "metadata": {},
     "execution_count": 29
    }
   ],
   "source": [
    "eng = [1,2,3] \n",
    "fr = [0,4,5]\n",
    "any_in = lambda a, b: any(i in b for i in a)\n",
    "test = [0,4,5]\n",
    "any_in(test, fr)"
   ]
  },
  {
   "cell_type": "code",
   "execution_count": 30,
   "metadata": {},
   "outputs": [],
   "source": [
    "outfile = open(\"./sorted_gold_dict_0.5\", \"w\")\n",
    "for key, value in sortedDict.items():\n",
    "    word, translation, occurLoc, conf = key.split(\"\\t\")\n",
    "    occurLoc = toList(occurLoc)\n",
    "\n",
    "    #check if the pair comes from at least one english and one french dictionary\n",
    "    containsBoth = any_in(occurLoc, fr) and any_in(occurLoc, eng)\n",
    "    if value >= 0.5 or containsBoth:\n",
    "        outfile.write(key)\n",
    "outfile.close()"
   ]
  },
  {
   "cell_type": "code",
   "execution_count": 31,
   "metadata": {},
   "outputs": [],
   "source": [
    "temp = {'/content/gdrive/My Drive/Colab Notebooks/Dictionary Project/Triangulate Paths/soha hu-fr-vi.json': 0, '/content/gdrive/My Drive/Colab Notebooks/Dictionary Project/Triangulate Paths/soha hu-en-vi.json': 1, '/content/gdrive/My Drive/Colab Notebooks/Dictionary Project/Triangulate Paths/vdict hu-en-vi.json': 2, '/content/gdrive/My Drive/Colab Notebooks/Dictionary Project/Triangulate Paths/wikt hu-en-vi.json': 3, '/content/gdrive/My Drive/Colab Notebooks/Dictionary Project/Triangulate Paths/wikt hu-fr-vi.json': 4, '/content/gdrive/My Drive/Colab Notebooks/Dictionary Project/Triangulate Paths/vdict hu-fr-vi.json': 5}"
   ]
  },
  {
   "cell_type": "code",
   "execution_count": 32,
   "metadata": {},
   "outputs": [],
   "source": [
    "pathDict = {}\n",
    "for k, v in temp.items():\n",
    "    k = k.split(\"/\")[-1]\n",
    "    pathDict[k] = v"
   ]
  },
  {
   "cell_type": "code",
   "execution_count": 33,
   "metadata": {},
   "outputs": [
    {
     "output_type": "execute_result",
     "data": {
      "text/plain": "{'soha hu-fr-vi.json': 0,\n 'soha hu-en-vi.json': 1,\n 'vdict hu-en-vi.json': 2,\n 'wikt hu-en-vi.json': 3,\n 'wikt hu-fr-vi.json': 4,\n 'vdict hu-fr-vi.json': 5}"
     },
     "metadata": {},
     "execution_count": 33
    }
   ],
   "source": [
    "pathDict"
   ]
  },
  {
   "cell_type": "code",
   "execution_count": 34,
   "metadata": {},
   "outputs": [],
   "source": [
    "import json\n",
    "with open(\"./paths.json\", \"w\") as outfile:\n",
    "    json.dump(pathDict, outfile)"
   ]
  }
 ],
 "metadata": {
  "kernelspec": {
   "display_name": "Python 3",
   "language": "python",
   "name": "python3"
  },
  "language_info": {
   "codemirror_mode": {
    "name": "ipython",
    "version": 3
   },
   "file_extension": ".py",
   "mimetype": "text/x-python",
   "name": "python",
   "nbconvert_exporter": "python",
   "pygments_lexer": "ipython3",
   "version": "3.7.7-final"
  }
 },
 "nbformat": 4,
 "nbformat_minor": 4
}