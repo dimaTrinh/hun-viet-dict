{
 "cells": [
  {
   "cell_type": "code",
   "execution_count": 1,
   "metadata": {},
   "outputs": [],
   "source": [
    "import glob\n",
    "from collections import OrderedDict, Counter\n",
    "\n",
    "class OrderedCounter(Counter, OrderedDict):\n",
    "    pass"
   ]
  },
  {
   "cell_type": "code",
   "execution_count": 2,
   "metadata": {},
   "outputs": [
    {
     "data": {
      "text/plain": [
       "['./confirmed soha hu-en-vi',\n",
       " './confirmed vdict hu-fr-vi',\n",
       " './confirmed soha hu-fr-vi',\n",
       " './confirmed vdict hu-en-vi',\n",
       " './confirmed wikt hu-en-vi',\n",
       " './confirmed wikt hu-fr-vi']"
      ]
     },
     "execution_count": 2,
     "metadata": {},
     "output_type": "execute_result"
    }
   ],
   "source": [
    "inputFiles = glob.glob(\"./confirmed*\")\n",
    "inputFiles"
   ]
  },
  {
   "cell_type": "code",
   "execution_count": 3,
   "metadata": {},
   "outputs": [
    {
     "name": "stdout",
     "output_type": "stream",
     "text": [
      "1284589\n",
      "713797\n"
     ]
    }
   ],
   "source": [
    "lines = []\n",
    "for file in inputFiles:\n",
    "    with open(file, \"r\") as infile:\n",
    "        lines.extend(infile.readlines())\n",
    "    \n",
    "print(len(lines))\n",
    "ordered_counter = OrderedCounter(lines)\n",
    "new_lines = [k.strip() for k, v in ordered_counter.items() if v==1]\n",
    "print(len(new_lines))"
   ]
  },
  {
   "cell_type": "code",
   "execution_count": 4,
   "metadata": {},
   "outputs": [],
   "source": [
    "confDict = {}\n",
    "for line in new_lines:\n",
    "    try:\n",
    "        word, translation, random, occurLoc, conf = line.split(\"\\t\")\n",
    "        outputLine = word + \"\\t\" + translation + \"\\t\" + occurLoc + \"\\t\" + conf + \"\\n\"\n",
    "        confDict[outputLine] = float(conf)\n",
    "    except:\n",
    "        continue"
   ]
  },
  {
   "cell_type": "code",
   "execution_count": 5,
   "metadata": {},
   "outputs": [
    {
     "data": {
      "text/plain": [
       "713519"
      ]
     },
     "execution_count": 5,
     "metadata": {},
     "output_type": "execute_result"
    }
   ],
   "source": [
    "len(confDict)"
   ]
  },
  {
   "cell_type": "code",
   "execution_count": 6,
   "metadata": {},
   "outputs": [],
   "source": [
    "sortedDict = {k: v for k, v in sorted(confDict.items(), key=lambda item: item[1], reverse = True)}"
   ]
  },
  {
   "cell_type": "code",
   "execution_count": 7,
   "metadata": {},
   "outputs": [],
   "source": [
    "outfile = open(\"./sorted_gold_dict\", \"w\")\n",
    "for key in sortedDict.keys():\n",
    "    outfile.write(key)\n",
    "outfile.close()"
   ]
  },
  {
   "cell_type": "code",
   "execution_count": 8,
   "metadata": {},
   "outputs": [],
   "source": [
    "outfile = open(\"./sorted_gold_dict_0.5\", \"w\")\n",
    "for key, value in sortedDict.items():\n",
    "    if value >= 0.5:\n",
    "        outfile.write(key)\n",
    "outfile.close()"
   ]
  },
  {
   "cell_type": "code",
   "execution_count": 11,
   "metadata": {},
   "outputs": [],
   "source": [
    "temp = {'/content/gdrive/My Drive/Colab Notebooks/Dictionary Project/Triangulate Paths/soha hu-fr-vi.json': 0, '/content/gdrive/My Drive/Colab Notebooks/Dictionary Project/Triangulate Paths/soha hu-en-vi.json': 1, '/content/gdrive/My Drive/Colab Notebooks/Dictionary Project/Triangulate Paths/vdict hu-en-vi.json': 2, '/content/gdrive/My Drive/Colab Notebooks/Dictionary Project/Triangulate Paths/wikt hu-en-vi.json': 3, '/content/gdrive/My Drive/Colab Notebooks/Dictionary Project/Triangulate Paths/wikt hu-fr-vi.json': 4, '/content/gdrive/My Drive/Colab Notebooks/Dictionary Project/Triangulate Paths/vdict hu-fr-vi.json': 5}"
   ]
  },
  {
   "cell_type": "code",
   "execution_count": 12,
   "metadata": {},
   "outputs": [],
   "source": [
    "pathDict = {}\n",
    "for k, v in temp.items():\n",
    "    k = k.split(\"/\")[-1]\n",
    "    pathDict[k] = v"
   ]
  },
  {
   "cell_type": "code",
   "execution_count": 13,
   "metadata": {},
   "outputs": [
    {
     "data": {
      "text/plain": [
       "{'soha hu-fr-vi.json': 0,\n",
       " 'soha hu-en-vi.json': 1,\n",
       " 'vdict hu-en-vi.json': 2,\n",
       " 'wikt hu-en-vi.json': 3,\n",
       " 'wikt hu-fr-vi.json': 4,\n",
       " 'vdict hu-fr-vi.json': 5}"
      ]
     },
     "execution_count": 13,
     "metadata": {},
     "output_type": "execute_result"
    }
   ],
   "source": [
    "pathDict"
   ]
  },
  {
   "cell_type": "code",
   "execution_count": 14,
   "metadata": {},
   "outputs": [],
   "source": [
    "import json\n",
    "with open(\"./paths.json\", \"w\") as outfile:\n",
    "    json.dump(pathDict, outfile)"
   ]
  }
 ],
 "metadata": {
  "kernelspec": {
   "display_name": "Python 3",
   "language": "python",
   "name": "python3"
  },
  "language_info": {
   "codemirror_mode": {
    "name": "ipython",
    "version": 3
   },
   "file_extension": ".py",
   "mimetype": "text/x-python",
   "name": "python",
   "nbconvert_exporter": "python",
   "pygments_lexer": "ipython3",
   "version": "3.7.7"
  }
 },
 "nbformat": 4,
 "nbformat_minor": 4
}
