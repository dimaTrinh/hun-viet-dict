{
 "metadata": {
  "language_info": {
   "codemirror_mode": {
    "name": "ipython",
    "version": 3
   },
   "file_extension": ".py",
   "mimetype": "text/x-python",
   "name": "python",
   "nbconvert_exporter": "python",
   "pygments_lexer": "ipython3",
   "version": "3.7.9-final"
  },
  "orig_nbformat": 2,
  "kernelspec": {
   "name": "python3",
   "display_name": "Python 3"
  }
 },
 "nbformat": 4,
 "nbformat_minor": 2,
 "cells": [
  {
   "cell_type": "code",
   "execution_count": 1,
   "metadata": {},
   "outputs": [],
   "source": [
    "import glob"
   ]
  },
  {
   "cell_type": "code",
   "execution_count": 2,
   "metadata": {},
   "outputs": [],
   "source": [
    "inputFiles = glob.glob(\"../../hundict-master/*.dict\")"
   ]
  },
  {
   "cell_type": "code",
   "execution_count": 3,
   "metadata": {},
   "outputs": [
    {
     "output_type": "execute_result",
     "data": {
      "text/plain": "[&#39;../../hundict-master/hu-vi-dice.dict&#39;,\n &#39;../../hundict-master/hu-vi-pmi.dict&#39;,\n &#39;../../hundict-master/hu-vi-wmi.dict&#39;]"
     },
     "metadata": {},
     "execution_count": 3
    }
   ],
   "source": [
    "inputFiles"
   ]
  },
  {
   "source": [
    "for file in inputFiles:\n",
    "    fileName = file.split(\"/\")[-1]\n",
    "    print(fileName)\n",
    "    confDict = {}\n",
    "    with open(file, \"r\") as infile:\n",
    "        data = infile.readlines()\n",
    "        \n",
    "    for line in data:\n",
    "        conf = line.strip().split(\"\\t\")[0]\n",
    "        confDict[line] = float(conf)\n",
    "\n",
    "    sortedDict = {k: v for k, v in sorted(confDict.items(), key=lambda item: item[1], reverse = True)}\n",
    "    \n",
    "    outPath = \"../../hundict-master/sorted_output/sorted-\" + fileName\n",
    "    print(outPath)\n",
    "\n",
    "    outfile = open(outPath, \"w\")\n",
    "    for key in sortedDict.keys():\n",
    "        outfile.write(key)\n",
    "    outfile.close()\n",
    "\n"
   ],
   "cell_type": "code",
   "metadata": {
    "tags": []
   },
   "execution_count": 5,
   "outputs": [
    {
     "output_type": "stream",
     "name": "stdout",
     "text": "hu-vi-dice.dict\n../../hundict-master/sorted_output/sorted-hu-vi-dice.dict\nhu-vi-pmi.dict\n../../hundict-master/sorted_output/sorted-hu-vi-pmi.dict\nhu-vi-wmi.dict\n../../hundict-master/sorted_output/sorted-hu-vi-wmi.dict\n"
    }
   ]
  }
 ]
}