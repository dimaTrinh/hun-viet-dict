{
 "cells": [
  {
   "cell_type": "code",
   "execution_count": null,
   "metadata": {},
   "outputs": [],
   "source": [
    "import json"
   ]
  },
  {
   "cell_type": "code",
   "execution_count": 6,
   "metadata": {},
   "outputs": [],
   "source": [
    "with open(\"./hokoto.final.tagged\", encoding = \"ISO-8859-1\") as infile:\n",
    "    data = infile.readlines()"
   ]
  },
  {
   "cell_type": "code",
   "execution_count": 11,
   "metadata": {},
   "outputs": [
    {
     "data": {
      "text/plain": [
       "[\"'sblood \", ' a kutya teremtésit']"
      ]
     },
     "execution_count": 11,
     "metadata": {},
     "output_type": "execute_result"
    }
   ],
   "source": [
    "len(data)"
   ]
  },
  {
   "cell_type": "code",
   "execution_count": null,
   "metadata": {},
   "outputs": [],
   "source": [
    "hu_en = {}"
   ]
  },
  {
   "cell_type": "code",
   "execution_count": 13,
   "metadata": {},
   "outputs": [
    {
     "name": "stdout",
     "output_type": "stream",
     "text": [
      "'sblood   a kutya teremtésit\n",
      "'sdeath   az istállóját!\n",
      "'shun   attention!\n",
      "'shun   vigyázz!\n",
      "'tis   it is\n"
     ]
    }
   ],
   "source": [
    "for line in data:\n",
    "    (tgt, src) = line.strip().split(\"\\t\")[0].split(\"@\")\n",
    "    src = src.strip()\n",
    "    tgt = tgt.strip()\n",
    "    if (src not in hu_en):\n",
    "        hu_en[src] = [tgt]\n",
    "    elif(tgt not in hu_en[src]):\n",
    "        hu_en[src].append(tgt)"
   ]
  },
  {
   "cell_type": "code",
   "execution_count": null,
   "metadata": {},
   "outputs": [],
   "source": [
    "with open(\"./Extracted/hu-en.json\", \"w\") as outfile:\n",
    "    json.dump(hu_en, outfile)"
   ]
  }
 ],
 "metadata": {
  "kernelspec": {
   "display_name": "Python 3",
   "language": "python",
   "name": "python3"
  },
  "language_info": {
   "codemirror_mode": {
    "name": "ipython",
    "version": 3
   },
   "file_extension": ".py",
   "mimetype": "text/x-python",
   "name": "python",
   "nbconvert_exporter": "python",
   "pygments_lexer": "ipython3",
   "version": "3.7.7"
  }
 },
 "nbformat": 4,
 "nbformat_minor": 4
}
