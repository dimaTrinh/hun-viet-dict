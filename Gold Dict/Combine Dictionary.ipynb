{
 "cells": [
  {
   "cell_type": "code",
   "execution_count": 1,
   "metadata": {},
   "outputs": [],
   "source": [
    "import json"
   ]
  },
  {
   "cell_type": "code",
   "execution_count": 2,
   "metadata": {},
   "outputs": [],
   "source": [
    "#give the language codes of the 2 languages \n",
    "def combineDict(code1, code2):\n",
    "    #path of the file that was extracted from wikt2dict\n",
    "    extractedPath = \"./Extracted/\" + code1 + \"-\" + code2 + \" wikt.json\"\n",
    "    \n",
    "    with open(extractedPath, \"r\") as infile:\n",
    "        file1 = json.load(infile)\n",
    "    \n",
    "    print(extractedPath, \" \", len(file1), \" items\")\n",
    "        \n",
    "    #path of the file that was reverse from scraped dictionaries\n",
    "    reversedPath = \"./Reverse/\" + code1 + \"-\" + code2 + \".json\"\n",
    "    \n",
    "    with open(reversedPath, \"r\") as infile:\n",
    "        file2 = json.load(infile)\n",
    "    \n",
    "    print(reversedPath, \" \", len(file2), \" items\")\n",
    "        \n",
    "    for (src, tgt) in file2.items():\n",
    "        #does not have this translation pair\n",
    "        if src not in file1:\n",
    "            file1[src] = tgt\n",
    "        else:\n",
    "            for translation in tgt:\n",
    "                #if this particular translation is not in the other dictionary\n",
    "                if translation not in file1[src]:\n",
    "                    file1[src].append(translation)\n",
    "    outputPath = \"./Combined/\" + code1 + \"-\" + code2 + \" final.json\"\n",
    "    print(outputPath, \" \", len(file1), \" items\")\n",
    "    with open(outputPath, \"w\") as outfile:\n",
    "        json.dump(file1, outfile)"
   ]
  },
  {
   "cell_type": "code",
   "execution_count": 3,
   "metadata": {},
   "outputs": [
    {
     "name": "stdout",
     "output_type": "stream",
     "text": [
      "./Extracted/hu-en wikt.json   48396  items\n",
      "./Reverse/hu-en.json   94615  items\n",
      "./Combined/hu-en final.json   121327  items\n"
     ]
    }
   ],
   "source": [
    "combineDict(\"hu\", \"en\")"
   ]
  },
  {
   "cell_type": "code",
   "execution_count": 4,
   "metadata": {},
   "outputs": [
    {
     "name": "stdout",
     "output_type": "stream",
     "text": [
      "./Extracted/en-vi wikt.json   10474  items\n",
      "./Reverse/en-vi.json   40151  items\n",
      "./Combined/en-vi final.json   45793  items\n"
     ]
    }
   ],
   "source": [
    "combineDict(\"en\", \"vi\")"
   ]
  },
  {
   "cell_type": "code",
   "execution_count": 5,
   "metadata": {},
   "outputs": [
    {
     "name": "stdout",
     "output_type": "stream",
     "text": [
      "./Extracted/fr-vi wikt.json   3870  items\n",
      "./Reverse/fr-vi.json   44512  items\n",
      "./Combined/fr-vi final.json   47220  items\n"
     ]
    }
   ],
   "source": [
    "combineDict(\"fr\", \"vi\")"
   ]
  },
  {
   "cell_type": "code",
   "execution_count": 6,
   "metadata": {},
   "outputs": [
    {
     "name": "stdout",
     "output_type": "stream",
     "text": [
      "./Extracted/hu-fr wikt.json   15773  items\n",
      "./Reverse/hu-fr.json   56355  items\n",
      "./Combined/hu-fr final.json   60384  items\n"
     ]
    }
   ],
   "source": [
    "combineDict(\"hu\", \"fr\")"
   ]
  }
 ],
 "metadata": {
  "kernelspec": {
   "display_name": "Python 3",
   "language": "python",
   "name": "python3"
  },
  "language_info": {
   "codemirror_mode": {
    "name": "ipython",
    "version": 3
   },
   "file_extension": ".py",
   "mimetype": "text/x-python",
   "name": "python",
   "nbconvert_exporter": "python",
   "pygments_lexer": "ipython3",
   "version": "3.7.7"
  }
 },
 "nbformat": 4,
 "nbformat_minor": 4
}
