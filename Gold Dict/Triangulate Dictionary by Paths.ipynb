{
 "cells": [
  {
   "cell_type": "code",
   "execution_count": 1,
   "metadata": {},
   "outputs": [],
   "source": [
    "import json"
   ]
  },
  {
   "cell_type": "code",
   "execution_count": 2,
   "metadata": {},
   "outputs": [],
   "source": [
    "#making a dictionary for code1-code3 by triangulating from dictionary for code1-code2 and code2-code3\n",
    "def triangulate(code1, code2, code3):\n",
    "    sources = [\"soha\", \"vdict\", \"wikt\"]\n",
    "    \n",
    "    for source in sources:\n",
    "        print(\"Triangulating from: \")\n",
    "        code1_code2_path = \"./Paths/\" + code1 + \"-\" + code2 + \" final.json\"\n",
    "        with open(code1_code2_path, \"r\") as infile:\n",
    "            code1_code2 = json.load(infile)\n",
    "        print(code1_code2_path, \"with\", len(code1_code2), \"items\")\n",
    "        \n",
    "        code2_code3_path = \"./Paths/\" + source + \" \" + code2 + \"-\" + code3 + \".json\"\n",
    "        with open(code2_code3_path, \"r\") as infile:\n",
    "            code2_code3 = json.load(infile)\n",
    "        print(code2_code3_path, \"with\", len(code2_code3), \"items\")\n",
    "\n",
    "        code1_code3 = {}\n",
    "        for (word, translations) in code1_code2.items():\n",
    "            for translation in translations:\n",
    "                if (translation in code2_code3):\n",
    "                    if (word not in code1_code3):\n",
    "                        code1_code3[word] = code2_code3[translation]\n",
    "                    else:\n",
    "                        code1_code3[word].extend(code2_code3[translation])\n",
    "                        code1_code3[word] = list(set(code1_code3[word]))\n",
    "                elif(translation.lower() in code2_code3):\n",
    "                    if (word not in code1_code3):\n",
    "                        code1_code3[word] = code2_code3[translation.lower()]\n",
    "                    else:\n",
    "                        code1_code3[word].extend(code2_code3[translation.lower()])\n",
    "                        code1_code3[word] = list(set(code1_code3[word]))\n",
    "\n",
    "        code1_code3_path = \"./Triangulate Paths/\" + source + \" \" + code1 + \"-\" + code2 + \"-\" + code3 + \".json\" \n",
    "        with open(code1_code3_path, \"w\") as outfile:\n",
    "            json.dump(code1_code3, outfile)\n",
    "        print(\"Resulted in \")\n",
    "        print(code1_code3_path, \"with\", len(code1_code3), \"items\")"
   ]
  },
  {
   "cell_type": "code",
   "execution_count": 3,
   "metadata": {},
   "outputs": [
    {
     "name": "stdout",
     "output_type": "stream",
     "text": [
      "Triangulating from: \n",
      "./Paths/hu-en final.json with 121327 items\n",
      "./Paths/soha en-vi.json with 33253 items\n",
      "Resulted in \n",
      "./Triangulate Paths/soha hu-en-vi.json with 51813 items\n",
      "Triangulating from: \n",
      "./Paths/hu-en final.json with 121327 items\n",
      "./Paths/vdict en-vi.json with 17502 items\n",
      "Resulted in \n",
      "./Triangulate Paths/vdict hu-en-vi.json with 29290 items\n",
      "Triangulating from: \n",
      "./Paths/hu-en final.json with 121327 items\n",
      "./Paths/wikt en-vi.json with 10474 items\n",
      "Resulted in \n",
      "./Triangulate Paths/wikt hu-en-vi.json with 38632 items\n"
     ]
    }
   ],
   "source": [
    "hu_en_vi = triangulate(\"hu\", \"en\", \"vi\")"
   ]
  },
  {
   "cell_type": "code",
   "execution_count": 4,
   "metadata": {},
   "outputs": [
    {
     "name": "stdout",
     "output_type": "stream",
     "text": [
      "Triangulating from: \n",
      "./Paths/hu-fr final.json with 60384 items\n",
      "./Paths/soha fr-vi.json with 28264 items\n",
      "Resulted in \n",
      "./Triangulate Paths/soha hu-fr-vi.json with 14285 items\n",
      "Triangulating from: \n",
      "./Paths/hu-fr final.json with 60384 items\n",
      "./Paths/vdict fr-vi.json with 25689 items\n",
      "Resulted in \n",
      "./Triangulate Paths/vdict hu-fr-vi.json with 18696 items\n",
      "Triangulating from: \n",
      "./Paths/hu-fr final.json with 60384 items\n",
      "./Paths/wikt fr-vi.json with 3870 items\n",
      "Resulted in \n",
      "./Triangulate Paths/wikt hu-fr-vi.json with 7574 items\n"
     ]
    }
   ],
   "source": [
    "hu_fr_vi = triangulate(\"hu\", \"fr\", \"vi\")"
   ]
  }
 ],
 "metadata": {
  "kernelspec": {
   "display_name": "Python 3",
   "language": "python",
   "name": "python3"
  },
  "language_info": {
   "codemirror_mode": {
    "name": "ipython",
    "version": 3
   },
   "file_extension": ".py",
   "mimetype": "text/x-python",
   "name": "python",
   "nbconvert_exporter": "python",
   "pygments_lexer": "ipython3",
   "version": "3.7.7"
  }
 },
 "nbformat": 4,
 "nbformat_minor": 4
}
