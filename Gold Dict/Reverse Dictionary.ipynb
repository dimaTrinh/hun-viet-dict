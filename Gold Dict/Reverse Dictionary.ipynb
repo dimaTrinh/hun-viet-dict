{
 "cells": [
  {
   "cell_type": "code",
   "execution_count": 1,
   "metadata": {},
   "outputs": [],
   "source": [
    "import json"
   ]
  },
  {
   "cell_type": "code",
   "execution_count": 2,
   "metadata": {},
   "outputs": [],
   "source": [
    "vi_en = [\"soha VI-EN\", \"vdict VI-EN\"]\n",
    "vi_fr = [\"soha VI-FR\", \"vdict VI-FR\"]"
   ]
  },
  {
   "cell_type": "code",
   "execution_count": 3,
   "metadata": {},
   "outputs": [],
   "source": [
    "def makeDict(fileNames):\n",
    "    reverse = {}\n",
    "    for file in fileNames:\n",
    "        filePath = \"./\" + file + \" ver 4.json\"\n",
    "        \n",
    "        #load the dictionary\n",
    "        with open(filePath) as infile:\n",
    "            temp = json.load(infile)\n",
    "        for (word, meaning) in temp.items():            \n",
    "            word = word.strip()\n",
    "            #get the number of translations stored for each word\n",
    "            numTrans = meaning['nums']\n",
    "            \n",
    "            translations = []\n",
    "            \n",
    "            #getting the translations stored for each word\n",
    "            for i in range(1, numTrans+1):\n",
    "                translations.extend(meaning[str(i)][\"translation\"])\n",
    "                \n",
    "            translations = [translation.strip() for translation in translations]\n",
    "            for translation in translations:\n",
    "                if translation == '':\n",
    "                    continue\n",
    "                if translation not in reverse:\n",
    "                    reverse[translation] = [word]\n",
    "                else:\n",
    "                    if (word not in reverse[translation]):\n",
    "                        reverse[translation].append(word)\n",
    "    return reverse"
   ]
  },
  {
   "cell_type": "code",
   "execution_count": 4,
   "metadata": {},
   "outputs": [],
   "source": [
    "en_vi = makeDict(vi_en)"
   ]
  },
  {
   "cell_type": "code",
   "execution_count": 5,
   "metadata": {},
   "outputs": [
    {
     "data": {
      "text/plain": [
       "40151"
      ]
     },
     "execution_count": 5,
     "metadata": {},
     "output_type": "execute_result"
    }
   ],
   "source": [
    "len(en_vi)"
   ]
  },
  {
   "cell_type": "code",
   "execution_count": 6,
   "metadata": {},
   "outputs": [],
   "source": [
    "with open(\"./Reverse/en-vi.json\", \"w\") as outfile:\n",
    "    json.dump(en_vi, outfile)"
   ]
  },
  {
   "cell_type": "code",
   "execution_count": 7,
   "metadata": {},
   "outputs": [],
   "source": [
    "fr_vi = makeDict(vi_fr)"
   ]
  },
  {
   "cell_type": "code",
   "execution_count": 8,
   "metadata": {},
   "outputs": [
    {
     "data": {
      "text/plain": [
       "44512"
      ]
     },
     "execution_count": 8,
     "metadata": {},
     "output_type": "execute_result"
    }
   ],
   "source": [
    "len(fr_vi)"
   ]
  },
  {
   "cell_type": "code",
   "execution_count": 9,
   "metadata": {},
   "outputs": [],
   "source": [
    "with open(\"./Reverse/fr-vi.json\", \"w\") as outfile:\n",
    "    json.dump(fr_vi, outfile)"
   ]
  }
 ],
 "metadata": {
  "kernelspec": {
   "display_name": "Python 3",
   "language": "python",
   "name": "python3"
  },
  "language_info": {
   "codemirror_mode": {
    "name": "ipython",
    "version": 3
   },
   "file_extension": ".py",
   "mimetype": "text/x-python",
   "name": "python",
   "nbconvert_exporter": "python",
   "pygments_lexer": "ipython3",
   "version": "3.7.7"
  }
 },
 "nbformat": 4,
 "nbformat_minor": 4
}
