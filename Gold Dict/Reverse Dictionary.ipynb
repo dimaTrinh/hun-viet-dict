{
 "cells": [
  {
   "cell_type": "code",
   "execution_count": 1,
   "metadata": {},
   "outputs": [],
   "source": [
    "import json"
   ]
  },
  {
   "cell_type": "code",
   "execution_count": 2,
   "metadata": {},
   "outputs": [],
   "source": [
    "vi_en = [\"soha VI-EN\", \"vdict VI-EN\"]\n",
    "vi_fr = [\"soha VI-FR\", \"vdict VI-FR\"]"
   ]
  },
  {
   "cell_type": "code",
   "execution_count": 3,
   "metadata": {},
   "outputs": [],
   "source": [
    "def makeDict(fileNames):\n",
    "    for file in fileNames:\n",
    "        reverse = {}\n",
    "        filePath = \"../Dict Scraping/Combined/\" + file + \" ver 4.json\"\n",
    "        \n",
    "        #load the dictionary\n",
    "        with open(filePath) as infile:\n",
    "            temp = json.load(infile)\n",
    "        for (word, meaning) in temp.items():            \n",
    "            word = word.strip()\n",
    "            #get the number of translations stored for each word\n",
    "            numTrans = meaning['nums']\n",
    "            \n",
    "            translations = []\n",
    "            \n",
    "            #getting the translations stored for each word\n",
    "            for i in range(1, numTrans+1):\n",
    "                translations.extend(meaning[str(i)][\"translation\"])\n",
    "                \n",
    "            translations = [translation.strip() for translation in translations]\n",
    "            for translation in translations:\n",
    "                if translation == '':\n",
    "                    continue\n",
    "                if translation not in reverse:\n",
    "                    reverse[translation] = [word]\n",
    "                else:\n",
    "                    if (word not in reverse[translation]):\n",
    "                        reverse[translation].append(word)\n",
    "            \n",
    "        dictSource = file.split(\" \")[0]\n",
    "        langCodes = file.split(\" \")[1].lower()\n",
    "        code1, code2 = langCodes.split(\"-\")\n",
    "        destPath = \"./Reverse/\" + file.split(\" \")[0] + \" \" + code2 + \"-\" + code1 + \".json\" \n",
    "\n",
    "        print(destPath,\"Length:\", len(reverse), \"entries\")\n",
    "            \n",
    "        with open(destPath, \"w\") as outfile:\n",
    "            json.dump(reverse, outfile)"
   ]
  },
  {
   "cell_type": "code",
   "execution_count": 4,
   "metadata": {},
   "outputs": [
    {
     "name": "stdout",
     "output_type": "stream",
     "text": [
      "./Reverse/soha en-vi.json Length: 33253 entries\n",
      "./Reverse/vdict en-vi.json Length: 17502 entries\n"
     ]
    }
   ],
   "source": [
    "makeDict(vi_en)"
   ]
  },
  {
   "cell_type": "code",
   "execution_count": 5,
   "metadata": {},
   "outputs": [
    {
     "name": "stdout",
     "output_type": "stream",
     "text": [
      "./Reverse/soha fr-vi.json Length: 28264 entries\n",
      "./Reverse/vdict fr-vi.json Length: 25689 entries\n"
     ]
    }
   ],
   "source": [
    "makeDict(vi_fr)"
   ]
  }
 ],
 "metadata": {
  "kernelspec": {
   "display_name": "Python 3",
   "language": "python",
   "name": "python3"
  },
  "language_info": {
   "codemirror_mode": {
    "name": "ipython",
    "version": 3
   },
   "file_extension": ".py",
   "mimetype": "text/x-python",
   "name": "python",
   "nbconvert_exporter": "python",
   "pygments_lexer": "ipython3",
   "version": "3.7.7"
  }
 },
 "nbformat": 4,
 "nbformat_minor": 4
}
