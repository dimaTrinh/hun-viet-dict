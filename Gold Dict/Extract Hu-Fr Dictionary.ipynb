{
 "cells": [
  {
   "cell_type": "code",
   "execution_count": 10,
   "metadata": {},
   "outputs": [],
   "source": [
    "import json\n",
    "import glob"
   ]
  },
  {
   "cell_type": "code",
   "execution_count": 11,
   "metadata": {},
   "outputs": [],
   "source": [
    "files = glob.glob(\"../../mnt/permanent/Language/French/Dic/Fr-Hu/**/*\")"
   ]
  },
  {
   "cell_type": "code",
   "execution_count": 31,
   "metadata": {},
   "outputs": [],
   "source": [
    "def findTranslations(container):\n",
    "    if \"content\" in container:\n",
    "        return [container[\"content\"]]\n",
    "    elif \"connected\" in container:\n",
    "        return findTranslations(container[\"connected\"])\n",
    "    elif \"connections\" in container:\n",
    "        temp = []\n",
    "        for connection in container[\"connections\"]:\n",
    "            temp.extend(findTranslations(connection))\n",
    "        return temp         "
   ]
  },
  {
   "cell_type": "code",
   "execution_count": 36,
   "metadata": {},
   "outputs": [
    {
     "name": "stdout",
     "output_type": "stream",
     "text": [
      "Found json file: Bahrein___1\n",
      "Found json file: reggeli___1\n",
      "Found json file: abbahagy___3\n",
      "Found json file: abbahagy___1\n",
      "Found json file: abbahagyás___2\n",
      "Found json file: abbamarad___1\n",
      "Found json file: abbahagy___2\n",
      "Found json file: abban az időben___1\n",
      "Found json file: abbahagyás___1\n",
      "Found json file: 10___1\n"
     ]
    }
   ],
   "source": [
    "d = {}\n",
    "for file in files:\n",
    "    try:\n",
    "        with open(file, \"r\") as infile:\n",
    "            data = json.load(infile)\n",
    "        print(\"Found json file: {}\".format(file.split(\"/\")[-1]))\n",
    "        word = data[\"content\"]\n",
    "        translations = []\n",
    "        for container in data[\"connections\"]:\n",
    "            translations.extend(findTranslations(container))\n",
    "        for translation in translations:\n",
    "            if translation not in d:\n",
    "                d[translation] = [word]\n",
    "            elif (word not in d[translation]):\n",
    "                d[translation].append(word)\n",
    "    except:\n",
    "        print(\"Not json file: {}\".format(file.split(\"/\")[-1]))"
   ]
  },
  {
   "cell_type": "code",
   "execution_count": 37,
   "metadata": {},
   "outputs": [
    {
     "data": {
      "text/plain": [
       "{'Bahrayn': ['Bahrein'],\n",
       " 'Bahreïn': ['Bahrein'],\n",
       " 'matutinal': ['reggeli'],\n",
       " 'petit-déjeuner': ['reggeli'],\n",
       " 'abandonner': ['abbahagy'],\n",
       " 'cesser': ['abbahagy', 'abbamarad'],\n",
       " 'quitter': ['abbahagy'],\n",
       " 'rompre': ['abbahagy'],\n",
       " 'finir': ['abbahagy'],\n",
       " 'levée': ['abbahagyás'],\n",
       " 'raccrocher': ['abbahagy'],\n",
       " 'lors': ['abban az időben'],\n",
       " 'discontinuité': ['abbahagyás'],\n",
       " 'shíyuè': ['10']}"
      ]
     },
     "execution_count": 37,
     "metadata": {},
     "output_type": "execute_result"
    }
   ],
   "source": [
    "d"
   ]
  },
  {
   "cell_type": "code",
   "execution_count": 38,
   "metadata": {},
   "outputs": [],
   "source": [
    "with open(\"./hu-fr.json\", \"w\") as outfile:\n",
    "    json.dump(d, outfile)"
   ]
  }
 ],
 "metadata": {
  "kernelspec": {
   "display_name": "Python 3",
   "language": "python",
   "name": "python3"
  },
  "language_info": {
   "codemirror_mode": {
    "name": "ipython",
    "version": 3
   },
   "file_extension": ".py",
   "mimetype": "text/x-python",
   "name": "python",
   "nbconvert_exporter": "python",
   "pygments_lexer": "ipython3",
   "version": "3.7.7"
  }
 },
 "nbformat": 4,
 "nbformat_minor": 4
}
