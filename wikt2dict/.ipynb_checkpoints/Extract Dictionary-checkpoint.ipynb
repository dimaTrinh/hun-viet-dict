{
 "cells": [
  {
   "cell_type": "code",
   "execution_count": 1,
   "metadata": {},
   "outputs": [],
   "source": [
    "import json"
   ]
  },
  {
   "cell_type": "code",
   "execution_count": 2,
   "metadata": {},
   "outputs": [],
   "source": [
    "with open(\"./en-dict\", 'r') as infile:\n",
    "    eng = infile.readlines()"
   ]
  },
  {
   "cell_type": "code",
   "execution_count": 3,
   "metadata": {},
   "outputs": [
    {
     "data": {
      "text/plain": [
       "1621759"
      ]
     },
     "execution_count": 3,
     "metadata": {},
     "output_type": "execute_result"
    }
   ],
   "source": [
    "len(eng)"
   ]
  },
  {
   "cell_type": "code",
   "execution_count": 4,
   "metadata": {},
   "outputs": [],
   "source": [
    "with open(\"./vi-dict\", 'r') as infile:\n",
    "    viet = infile.readlines()"
   ]
  },
  {
   "cell_type": "code",
   "execution_count": 5,
   "metadata": {},
   "outputs": [
    {
     "data": {
      "text/plain": [
       "1436"
      ]
     },
     "execution_count": 5,
     "metadata": {},
     "output_type": "execute_result"
    }
   ],
   "source": [
    "len(viet)"
   ]
  },
  {
   "cell_type": "code",
   "execution_count": 6,
   "metadata": {},
   "outputs": [],
   "source": [
    "with open(\"./fr-dict\", 'r') as infile:\n",
    "    french = (infile.readlines())"
   ]
  },
  {
   "cell_type": "code",
   "execution_count": 7,
   "metadata": {},
   "outputs": [
    {
     "data": {
      "text/plain": [
       "755056"
      ]
     },
     "execution_count": 7,
     "metadata": {},
     "output_type": "execute_result"
    }
   ],
   "source": [
    "len(french)"
   ]
  },
  {
   "cell_type": "code",
   "execution_count": 8,
   "metadata": {},
   "outputs": [],
   "source": [
    "with open(\"./hu-dict\", 'r') as infile:\n",
    "    hung = (infile.readlines())"
   ]
  },
  {
   "cell_type": "code",
   "execution_count": 9,
   "metadata": {},
   "outputs": [
    {
     "data": {
      "text/plain": [
       "408605"
      ]
     },
     "execution_count": 9,
     "metadata": {},
     "output_type": "execute_result"
    }
   ],
   "source": [
    "len(hung)"
   ]
  },
  {
   "cell_type": "code",
   "execution_count": 10,
   "metadata": {},
   "outputs": [],
   "source": [
    "#extract the pair of language contains in each line of the data extract from wikt2dict\n",
    "#the format is: code of language 1 \\t word in language 1 \\t code of language 2 \\t word in language 2\n",
    "\n",
    "#Usage: pass in the code of the source language and the target language you are looking for\n",
    "#then pass in the files you want the function to look to find the pairs\n",
    "def extractPair(src, tgt, *args):\n",
    "    storage = {}\n",
    "    for arg in args:\n",
    "        for line in arg:\n",
    "            line = line.strip()\n",
    "            parts = line.split(\"\\t\")\n",
    "            parts = [part.strip() for part in parts]\n",
    "            if (parts[0] == src and parts[2] == tgt):\n",
    "                if parts[1] not in storage:\n",
    "                    storage[parts[1]] = [parts[3]]\n",
    "                elif(parts[3] not in storage[parts[1]]):\n",
    "                    storage[parts[1]].append(parts[3])\n",
    "            elif(parts[0] == tgt and parts[2] == src):\n",
    "                if parts[3] not in storage:\n",
    "                    storage[parts[3]] = [parts[1]]\n",
    "                elif(parts[1] not in storage[parts[3]]):\n",
    "                    storage[parts[3]].append(parts[1])\n",
    "            else:\n",
    "                continue\n",
    "    filePath = \"./Extracted/\" + src + \"-\" + tgt + \" wikt.json\"\n",
    "    with open(filePath, \"w\") as outfile:\n",
    "        json.dump(storage, outfile)\n",
    "    return len(storage)"
   ]
  },
  {
   "cell_type": "code",
   "execution_count": 11,
   "metadata": {},
   "outputs": [
    {
     "data": {
      "text/plain": [
       "10474"
      ]
     },
     "execution_count": 11,
     "metadata": {},
     "output_type": "execute_result"
    }
   ],
   "source": [
    "extractPair(\"en\", \"vi\", viet, eng)"
   ]
  },
  {
   "cell_type": "code",
   "execution_count": 12,
   "metadata": {},
   "outputs": [
    {
     "data": {
      "text/plain": [
       "3870"
      ]
     },
     "execution_count": 12,
     "metadata": {},
     "output_type": "execute_result"
    }
   ],
   "source": [
    "extractPair(\"fr\", \"vi\", viet, french)"
   ]
  },
  {
   "cell_type": "code",
   "execution_count": 13,
   "metadata": {},
   "outputs": [
    {
     "data": {
      "text/plain": [
       "48396"
      ]
     },
     "execution_count": 13,
     "metadata": {},
     "output_type": "execute_result"
    }
   ],
   "source": [
    "extractPair(\"hu\", \"en\", hung, eng)"
   ]
  },
  {
   "cell_type": "code",
   "execution_count": 14,
   "metadata": {},
   "outputs": [
    {
     "data": {
      "text/plain": [
       "15773"
      ]
     },
     "execution_count": 14,
     "metadata": {},
     "output_type": "execute_result"
    }
   ],
   "source": [
    "extractPair(\"hu\", \"fr\", hung, french)"
   ]
  },
  {
   "cell_type": "code",
   "execution_count": 15,
   "metadata": {},
   "outputs": [
    {
     "data": {
      "text/plain": [
       "3521"
      ]
     },
     "execution_count": 15,
     "metadata": {},
     "output_type": "execute_result"
    }
   ],
   "source": [
    "extractPair(\"hu\", \"vi\", hung, viet)"
   ]
  }
 ],
 "metadata": {
  "kernelspec": {
   "display_name": "Python 3",
   "language": "python",
   "name": "python3"
  },
  "language_info": {
   "codemirror_mode": {
    "name": "ipython",
    "version": 3
   },
   "file_extension": ".py",
   "mimetype": "text/x-python",
   "name": "python",
   "nbconvert_exporter": "python",
   "pygments_lexer": "ipython3",
   "version": "3.7.7"
  }
 },
 "nbformat": 4,
 "nbformat_minor": 4
}
